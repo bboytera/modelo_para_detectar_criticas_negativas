{
 "cells": [
  {
   "cell_type": "markdown",
   "metadata": {},
   "source": [
    "# Descripcipción del proyecto"
   ]
  },
  {
   "cell_type": "markdown",
   "metadata": {},
   "source": [
    "Film Junky Union, una nueva comunidad vanguardista para los aficionados de las películas clásicas, está desarrollando un sistema para filtrar y categorizar reseñas de películas. Nuestro objetivo es entrenar un modelo para detectar las críticas negativas de forma automática. Para lograrlo utilizaremos un conjunto de datos de reseñas de películas de IMDB con leyendas de polaridad para construir un modelo que clasifique las reseñas positivas y negativas. Este deberá alcanzar un valor F1 de al menos 0.85."
   ]
  },
  {
   "cell_type": "markdown",
   "metadata": {},
   "source": [
    "# Descripción de los datos"
   ]
  },
  {
   "cell_type": "markdown",
   "metadata": {},
   "source": [
    "Los datos se almacenan en el archivo imdb_reviews.tsv. \n",
    "\n",
    "Los datos fueron proporcionados por Andrew L. Maas, Raymond E. Daly, Peter T. Pham, Dan Huang, Andrew Y. Ng, y Christopher Potts. (2011). **Learning Word Vectors for Sentiment Analysis**. La Reunión Anual 49 de la Asociación de Lingüística Computacional (ACL 2011).\n",
    "\n",
    "Aquí se describen los campos seleccionados:\n",
    "\n",
    "- review: el texto de la reseña\n",
    "- pos: el objetivo, '0' para negativo y '1' para positivo\n",
    "- ds_part: 'entrenamiento'/'prueba' para la parte de entrenamiento/prueba del conjunto de datos, respectivamente"
   ]
  },
  {
   "cell_type": "markdown",
   "metadata": {},
   "source": [
    "# Inicialización"
   ]
  },
  {
   "cell_type": "code",
   "execution_count": 1,
   "metadata": {},
   "outputs": [],
   "source": [
    "import math\n",
    "import time\n",
    "\n",
    "import numpy as np\n",
    "import pandas as pd\n",
    "\n",
    "import matplotlib\n",
    "import matplotlib.pyplot as plt\n",
    "import matplotlib.dates as mdates\n",
    "import seaborn as sns\n",
    "\n",
    "from tqdm.auto import tqdm\n",
    "\n",
    "import re\n",
    "import spacy\n",
    "import string"
   ]
  },
  {
   "cell_type": "code",
   "execution_count": 2,
   "metadata": {},
   "outputs": [],
   "source": [
    "%matplotlib inline\n",
    "%config InlineBackend.figure_format = 'png'\n",
    "# la siguiente línea proporciona gráficos de mejor calidad en pantallas HiDPI\n",
    "# %config InlineBackend.figure_format = 'retina'\n",
    "\n",
    "plt.style.use('seaborn')"
   ]
  },
  {
   "cell_type": "code",
   "execution_count": 3,
   "metadata": {},
   "outputs": [],
   "source": [
    "# esto es para usar progress_apply, https://pypi.org/project/tqdm/#pandas-integration\n",
    "tqdm.pandas()"
   ]
  },
  {
   "cell_type": "markdown",
   "metadata": {},
   "source": [
    "# Cargar datos"
   ]
  },
  {
   "cell_type": "code",
   "execution_count": 4,
   "metadata": {},
   "outputs": [],
   "source": [
    "df_reviews = pd.read_csv('https://practicum-content.s3.us-west-1.amazonaws.com/datasets/imdb_reviews.tsv', sep='\\t', dtype={'votes': 'Int64'})"
   ]
  },
  {
   "cell_type": "code",
   "execution_count": 5,
   "metadata": {},
   "outputs": [
    {
     "data": {
      "text/html": [
       "<div>\n",
       "<style scoped>\n",
       "    .dataframe tbody tr th:only-of-type {\n",
       "        vertical-align: middle;\n",
       "    }\n",
       "\n",
       "    .dataframe tbody tr th {\n",
       "        vertical-align: top;\n",
       "    }\n",
       "\n",
       "    .dataframe thead th {\n",
       "        text-align: right;\n",
       "    }\n",
       "</style>\n",
       "<table border=\"1\" class=\"dataframe\">\n",
       "  <thead>\n",
       "    <tr style=\"text-align: right;\">\n",
       "      <th></th>\n",
       "      <th>tconst</th>\n",
       "      <th>title_type</th>\n",
       "      <th>primary_title</th>\n",
       "      <th>original_title</th>\n",
       "      <th>start_year</th>\n",
       "      <th>end_year</th>\n",
       "      <th>runtime_minutes</th>\n",
       "      <th>is_adult</th>\n",
       "      <th>genres</th>\n",
       "      <th>average_rating</th>\n",
       "      <th>votes</th>\n",
       "      <th>review</th>\n",
       "      <th>rating</th>\n",
       "      <th>sp</th>\n",
       "      <th>pos</th>\n",
       "      <th>ds_part</th>\n",
       "      <th>idx</th>\n",
       "    </tr>\n",
       "  </thead>\n",
       "  <tbody>\n",
       "    <tr>\n",
       "      <th>0</th>\n",
       "      <td>tt0068152</td>\n",
       "      <td>movie</td>\n",
       "      <td>$</td>\n",
       "      <td>$</td>\n",
       "      <td>1971</td>\n",
       "      <td>\\N</td>\n",
       "      <td>121</td>\n",
       "      <td>0</td>\n",
       "      <td>Comedy,Crime,Drama</td>\n",
       "      <td>6.3</td>\n",
       "      <td>2218</td>\n",
       "      <td>The pakage implies that Warren Beatty and Gold...</td>\n",
       "      <td>1</td>\n",
       "      <td>neg</td>\n",
       "      <td>0</td>\n",
       "      <td>train</td>\n",
       "      <td>8335</td>\n",
       "    </tr>\n",
       "    <tr>\n",
       "      <th>1</th>\n",
       "      <td>tt0068152</td>\n",
       "      <td>movie</td>\n",
       "      <td>$</td>\n",
       "      <td>$</td>\n",
       "      <td>1971</td>\n",
       "      <td>\\N</td>\n",
       "      <td>121</td>\n",
       "      <td>0</td>\n",
       "      <td>Comedy,Crime,Drama</td>\n",
       "      <td>6.3</td>\n",
       "      <td>2218</td>\n",
       "      <td>How the hell did they get this made?! Presenti...</td>\n",
       "      <td>1</td>\n",
       "      <td>neg</td>\n",
       "      <td>0</td>\n",
       "      <td>train</td>\n",
       "      <td>8336</td>\n",
       "    </tr>\n",
       "    <tr>\n",
       "      <th>2</th>\n",
       "      <td>tt0313150</td>\n",
       "      <td>short</td>\n",
       "      <td>'15'</td>\n",
       "      <td>'15'</td>\n",
       "      <td>2002</td>\n",
       "      <td>\\N</td>\n",
       "      <td>25</td>\n",
       "      <td>0</td>\n",
       "      <td>Comedy,Drama,Short</td>\n",
       "      <td>6.3</td>\n",
       "      <td>184</td>\n",
       "      <td>There is no real story the film seems more lik...</td>\n",
       "      <td>3</td>\n",
       "      <td>neg</td>\n",
       "      <td>0</td>\n",
       "      <td>test</td>\n",
       "      <td>2489</td>\n",
       "    </tr>\n",
       "  </tbody>\n",
       "</table>\n",
       "</div>"
      ],
      "text/plain": [
       "      tconst title_type primary_title original_title  start_year end_year  \\\n",
       "0  tt0068152      movie             $              $        1971       \\N   \n",
       "1  tt0068152      movie             $              $        1971       \\N   \n",
       "2  tt0313150      short          '15'           '15'        2002       \\N   \n",
       "\n",
       "  runtime_minutes  is_adult              genres  average_rating  votes  \\\n",
       "0             121         0  Comedy,Crime,Drama             6.3   2218   \n",
       "1             121         0  Comedy,Crime,Drama             6.3   2218   \n",
       "2              25         0  Comedy,Drama,Short             6.3    184   \n",
       "\n",
       "                                              review  rating   sp  pos  \\\n",
       "0  The pakage implies that Warren Beatty and Gold...       1  neg    0   \n",
       "1  How the hell did they get this made?! Presenti...       1  neg    0   \n",
       "2  There is no real story the film seems more lik...       3  neg    0   \n",
       "\n",
       "  ds_part   idx  \n",
       "0   train  8335  \n",
       "1   train  8336  \n",
       "2    test  2489  "
      ]
     },
     "execution_count": 5,
     "metadata": {},
     "output_type": "execute_result"
    }
   ],
   "source": [
    "df_reviews.head(3)"
   ]
  },
  {
   "cell_type": "code",
   "execution_count": 6,
   "metadata": {},
   "outputs": [
    {
     "name": "stdout",
     "output_type": "stream",
     "text": [
      "<class 'pandas.core.frame.DataFrame'>\n",
      "RangeIndex: 47331 entries, 0 to 47330\n",
      "Data columns (total 17 columns):\n",
      " #   Column           Non-Null Count  Dtype  \n",
      "---  ------           --------------  -----  \n",
      " 0   tconst           47331 non-null  object \n",
      " 1   title_type       47331 non-null  object \n",
      " 2   primary_title    47331 non-null  object \n",
      " 3   original_title   47331 non-null  object \n",
      " 4   start_year       47331 non-null  int64  \n",
      " 5   end_year         47331 non-null  object \n",
      " 6   runtime_minutes  47331 non-null  object \n",
      " 7   is_adult         47331 non-null  int64  \n",
      " 8   genres           47331 non-null  object \n",
      " 9   average_rating   47329 non-null  float64\n",
      " 10  votes            47329 non-null  Int64  \n",
      " 11  review           47331 non-null  object \n",
      " 12  rating           47331 non-null  int64  \n",
      " 13  sp               47331 non-null  object \n",
      " 14  pos              47331 non-null  int64  \n",
      " 15  ds_part          47331 non-null  object \n",
      " 16  idx              47331 non-null  int64  \n",
      "dtypes: Int64(1), float64(1), int64(5), object(10)\n",
      "memory usage: 6.2+ MB\n"
     ]
    }
   ],
   "source": [
    "df_reviews.info()"
   ]
  },
  {
   "cell_type": "code",
   "execution_count": 7,
   "metadata": {},
   "outputs": [
    {
     "data": {
      "text/plain": [
       "0"
      ]
     },
     "execution_count": 7,
     "metadata": {},
     "output_type": "execute_result"
    }
   ],
   "source": [
    "df_reviews.duplicated().sum()"
   ]
  },
  {
   "cell_type": "markdown",
   "metadata": {},
   "source": [
    "# EDA"
   ]
  },
  {
   "cell_type": "markdown",
   "metadata": {},
   "source": [
    "Veamos el número de películas y reseñas a lo largo de los años."
   ]
  },
  {
   "cell_type": "code",
   "execution_count": 8,
   "metadata": {},
   "outputs": [
    {
     "data": {
      "image/png": "[encoded data removed]",
      "text/plain": [
       "<Figure size 1600x800 with 3 Axes>"
      ]
     },
     "metadata": {},
     "output_type": "display_data"
    }
   ],
   "source": [
    "fig, axs = plt.subplots(2, 1, figsize=(16, 8))\n",
    "\n",
    "ax = axs[0]\n",
    "\n",
    "dft1 = df_reviews[['tconst', 'start_year']].drop_duplicates() \\\n",
    "    ['start_year'].value_counts().sort_index()\n",
    "dft1 = dft1.reindex(index=np.arange(dft1.index.min(), max(dft1.index.max(), 2021))).fillna(0)\n",
    "dft1.plot(kind='bar', ax=ax)\n",
    "ax.set_title('Número de películas a lo largo de los años')\n",
    "\n",
    "ax = axs[1]\n",
    "\n",
    "dft2 = df_reviews.groupby(['start_year', 'pos'])['pos'].count().unstack()\n",
    "dft2 = dft2.reindex(index=np.arange(dft2.index.min(), max(dft2.index.max(), 2021))).fillna(0)\n",
    "\n",
    "dft2.plot(kind='bar', stacked=True, label='#reviews (neg, pos)', ax=ax)\n",
    "\n",
    "dft2 = df_reviews['start_year'].value_counts().sort_index()\n",
    "dft2 = dft2.reindex(index=np.arange(dft2.index.min(), max(dft2.index.max(), 2021))).fillna(0)\n",
    "dft3 = (dft2/dft1).fillna(0)\n",
    "axt = ax.twinx()\n",
    "dft3.reset_index(drop=True).rolling(5).mean().plot(color='orange', label='reviews per movie (avg over 5 years)', ax=axt)\n",
    "\n",
    "lines, labels = axt.get_legend_handles_labels()\n",
    "ax.legend(lines, labels, loc='upper left')\n",
    "\n",
    "ax.set_title('Número de reseñas a lo largo de los años')\n",
    "\n",
    "fig.tight_layout()"
   ]
  },
  {
   "cell_type": "markdown",
   "metadata": {},
   "source": [
    "- En la grafica de arriba podemos ver un incremento gradual apartir de 1913 y de 1960 a 1967 hay un periodo de disminucion, apartir de 1968 vuelve el aumento  gradual, de 1996 a 2007 podemos ver como aumneto de manera significativa!! teniendo su pico más alto en ese año, de ahi en adelante ahi una caída abrupta! \n",
    "- En la segunda gráfica parece tener una tendencia creciente  la cantidad promedio de reseñas por película representada por la linea naranja teniendo su pico entre los años 2000 y 2010 y luego decreciendo ligeramnete\n"
   ]
  },
  {
   "cell_type": "markdown",
   "metadata": {},
   "source": [
    "Podemos ver como las reseñas han aumentado y disminuido a la par como lo hacen el numero de peliculas por año probablemente a una falta de datos en los años más recientes o tal vez por que ya hay nuevas plataformas de entretenimiento en internet como streamming, yotube, tick tock, etc."
   ]
  },
  {
   "cell_type": "markdown",
   "metadata": {},
   "source": [
    "Veamos la distribución del número de reseñas por película con el conteo exacto y KDE (solo para saber cómo puede diferir del conteo exacto)"
   ]
  },
  {
   "cell_type": "code",
   "execution_count": 9,
   "metadata": {},
   "outputs": [
    {
     "data": {
      "image/png": "[encoded data removed]",
      "text/plain": [
       "<Figure size 1600x500 with 2 Axes>"
      ]
     },
     "metadata": {},
     "output_type": "display_data"
    }
   ],
   "source": [
    "fig, axs = plt.subplots(1, 2, figsize=(16, 5))\n",
    "\n",
    "ax = axs[0]\n",
    "dft = df_reviews.groupby('tconst')['review'].count() \\\n",
    "    .value_counts() \\\n",
    "    .sort_index()\n",
    "dft.plot.bar(ax=ax)\n",
    "ax.set_title('Gráfico de barras de #Reseñas por película')\n",
    "\n",
    "ax = axs[1]\n",
    "dft = df_reviews.groupby('tconst')['review'].count()\n",
    "sns.kdeplot(dft, ax=ax)\n",
    "ax.set_title('Gráfico KDE de #Reseñas por película')\n",
    "\n",
    "fig.tight_layout()"
   ]
  },
  {
   "cell_type": "markdown",
   "metadata": {},
   "source": [
    "Podemos ver en las gráficas como hay muchas peliculas con una o dos reseñas y lo podemos comprobar con la segunda grafica como se concentra la densidad entre uno y cinco reseñas despues entre más reseñas hay el número de peliculas disminuye y hay un pico anomalo en 30 reseñas!!"
   ]
  },
  {
   "cell_type": "code",
   "execution_count": 10,
   "metadata": {},
   "outputs": [
    {
     "data": {
      "text/plain": [
       "0    23715\n",
       "1    23616\n",
       "Name: pos, dtype: int64"
      ]
     },
     "execution_count": 10,
     "metadata": {},
     "output_type": "execute_result"
    }
   ],
   "source": [
    "df_reviews['pos'].value_counts()"
   ]
  },
  {
   "cell_type": "code",
   "execution_count": 11,
   "metadata": {},
   "outputs": [
    {
     "data": {
      "image/png": "[encoded data removed]",
      "text/plain": [
       "<Figure size 1200x400 with 2 Axes>"
      ]
     },
     "metadata": {},
     "output_type": "display_data"
    }
   ],
   "source": [
    "fig, axs = plt.subplots(1, 2, figsize=(12, 4))\n",
    "\n",
    "ax = axs[0]\n",
    "dft = df_reviews.query('ds_part == \"train\"')['rating'].value_counts().sort_index()\n",
    "dft = dft.reindex(index=np.arange(min(dft.index.min(), 1), max(dft.index.max(), 11))).fillna(0)\n",
    "dft.plot.bar(ax=ax)\n",
    "ax.set_ylim([0, 5000])\n",
    "ax.set_title('El conjunto de entrenamiento: distribución de puntuaciones')\n",
    "\n",
    "ax = axs[1]\n",
    "dft = df_reviews.query('ds_part == \"test\"')['rating'].value_counts().sort_index()\n",
    "dft = dft.reindex(index=np.arange(min(dft.index.min(), 1), max(dft.index.max(), 11))).fillna(0)\n",
    "dft.plot.bar(ax=ax)\n",
    "ax.set_ylim([0, 5000])\n",
    "ax.set_title('El conjunto de prueba: distribución de puntuaciones')\n",
    "\n",
    "fig.tight_layout()"
   ]
  },
  {
   "cell_type": "markdown",
   "metadata": {},
   "source": [
    "Podemos ver a simple vista como la separación de los datos de los dos conjuntos de entrenamiento y prueba se hizo de manera equilibrada!!"
   ]
  },
  {
   "cell_type": "markdown",
   "metadata": {},
   "source": [
    "Distribución de reseñas negativas y positivas a lo largo de los años para dos partes del conjunto de datos"
   ]
  },
  {
   "cell_type": "code",
   "execution_count": 12,
   "metadata": {},
   "outputs": [
    {
     "name": "stderr",
     "output_type": "stream",
     "text": [
      "/opt/conda/envs/python3/lib/python3.9/site-packages/seaborn/distributions.py:1666: UserWarning: Support for alternate kernels has been removed. Using Gaussian kernel.\n",
      "  warnings.warn(msg, UserWarning)\n",
      "/opt/conda/envs/python3/lib/python3.9/site-packages/seaborn/distributions.py:1666: UserWarning: Support for alternate kernels has been removed. Using Gaussian kernel.\n",
      "  warnings.warn(msg, UserWarning)\n",
      "/opt/conda/envs/python3/lib/python3.9/site-packages/seaborn/distributions.py:1666: UserWarning: Support for alternate kernels has been removed. Using Gaussian kernel.\n",
      "  warnings.warn(msg, UserWarning)\n",
      "/opt/conda/envs/python3/lib/python3.9/site-packages/seaborn/distributions.py:1666: UserWarning: Support for alternate kernels has been removed. Using Gaussian kernel.\n",
      "  warnings.warn(msg, UserWarning)\n"
     ]
    },
    {
     "data": {
      "image/png": "[encoded data removed]",
      "text/plain": [
       "<Figure size 1600x800 with 4 Axes>"
      ]
     },
     "metadata": {},
     "output_type": "display_data"
    }
   ],
   "source": [
    "fig, axs = plt.subplots(2, 2, figsize=(16, 8), gridspec_kw=dict(width_ratios=(2, 1), height_ratios=(1, 1)))\n",
    "\n",
    "ax = axs[0][0]\n",
    "\n",
    "dft = df_reviews.query('ds_part == \"train\"').groupby(['start_year', 'pos'])['pos'].count().unstack()\n",
    "dft.index = dft.index.astype('int')\n",
    "dft = dft.reindex(index=np.arange(dft.index.min(), max(dft.index.max(), 2020))).fillna(0)\n",
    "dft.plot(kind='bar', stacked=True, ax=ax)\n",
    "ax.set_title('El conjunto de entrenamiento: número de reseñas de diferentes polaridades por año')\n",
    "\n",
    "ax = axs[0][1]\n",
    "\n",
    "dft = df_reviews.query('ds_part == \"train\"').groupby(['tconst', 'pos'])['pos'].count().unstack()\n",
    "sns.kdeplot(dft[0], color='blue', label='negative', kernel='epa', ax=ax)\n",
    "sns.kdeplot(dft[1], color='green', label='positive', kernel='epa', ax=ax)\n",
    "ax.legend()\n",
    "ax.set_title('El conjunto de entrenamiento: distribución de diferentes polaridades por película')\n",
    "\n",
    "ax = axs[1][0]\n",
    "\n",
    "dft = df_reviews.query('ds_part == \"test\"').groupby(['start_year', 'pos'])['pos'].count().unstack()\n",
    "dft.index = dft.index.astype('int')\n",
    "dft = dft.reindex(index=np.arange(dft.index.min(), max(dft.index.max(), 2020))).fillna(0)\n",
    "dft.plot(kind='bar', stacked=True, ax=ax)\n",
    "ax.set_title('El conjunto de prueba: número de reseñas de diferentes polaridades por año')\n",
    "\n",
    "ax = axs[1][1]\n",
    "\n",
    "dft = df_reviews.query('ds_part == \"test\"').groupby(['tconst', 'pos'])['pos'].count().unstack()\n",
    "sns.kdeplot(dft[0], color='blue', label='negative', kernel='epa', ax=ax)\n",
    "sns.kdeplot(dft[1], color='green', label='positive', kernel='epa', ax=ax)\n",
    "ax.legend()\n",
    "ax.set_title('El conjunto de prueba: distribución de diferentes polaridades por película')\n",
    "\n",
    "fig.tight_layout()"
   ]
  },
  {
   "cell_type": "markdown",
   "metadata": {},
   "source": [
    "Estos gráficos nos dan una visión detallada de la distribución de las puntuaciones y polaridades en los conjuntos de entrenamiento y prueba. La consistencia entre ambos conjuntos sugiere que los datos fueron divididos de manera equilibrada. "
   ]
  },
  {
   "cell_type": "markdown",
   "metadata": {},
   "source": [
    "## Procedimiento de evaluación"
   ]
  },
  {
   "cell_type": "markdown",
   "metadata": {},
   "source": [
    "Composición de una rutina de evaluación que se pueda usar para todos los modelos en este proyecto"
   ]
  },
  {
   "cell_type": "code",
   "execution_count": 13,
   "metadata": {},
   "outputs": [],
   "source": [
    "import sklearn.metrics as metrics\n",
    "def evaluate_model(model, train_features, train_target, test_features, test_target):\n",
    "    \n",
    "    eval_stats = {}\n",
    "    \n",
    "    fig, axs = plt.subplots(1, 3, figsize=(20, 6)) \n",
    "    \n",
    "    for type, features, target in (('train', train_features, train_target), ('test', test_features, test_target)):\n",
    "        \n",
    "        eval_stats[type] = {}\n",
    "    \n",
    "        pred_target = model.predict(features)\n",
    "        pred_proba = model.predict_proba(features)[:, 1]\n",
    "        \n",
    "        # F1\n",
    "        f1_thresholds = np.arange(0, 1.01, 0.05)\n",
    "        f1_scores = [metrics.f1_score(target, pred_proba>=threshold) for threshold in f1_thresholds]\n",
    "        \n",
    "        # ROC\n",
    "        fpr, tpr, roc_thresholds = metrics.roc_curve(target, pred_proba)\n",
    "        roc_auc = metrics.roc_auc_score(target, pred_proba)    \n",
    "        eval_stats[type]['ROC AUC'] = roc_auc\n",
    "\n",
    "        # PRC\n",
    "        precision, recall, pr_thresholds = metrics.precision_recall_curve(target, pred_proba)\n",
    "        aps = metrics.average_precision_score(target, pred_proba)\n",
    "        eval_stats[type]['APS'] = aps\n",
    "        \n",
    "        if type == 'train':\n",
    "            color = 'blue'\n",
    "        else:\n",
    "            color = 'green'\n",
    "\n",
    "        # Valor F1\n",
    "        ax = axs[0]\n",
    "        max_f1_score_idx = np.argmax(f1_scores)\n",
    "        ax.plot(f1_thresholds, f1_scores, color=color, label=f'{type}, max={f1_scores[max_f1_score_idx]:.2f} @ {f1_thresholds[max_f1_score_idx]:.2f}')\n",
    "        # establecer cruces para algunos umbrales        \n",
    "        for threshold in (0.2, 0.4, 0.5, 0.6, 0.8):\n",
    "            closest_value_idx = np.argmin(np.abs(f1_thresholds-threshold))\n",
    "            marker_color = 'orange' if threshold != 0.5 else 'red'\n",
    "            ax.plot(f1_thresholds[closest_value_idx], f1_scores[closest_value_idx], color=marker_color, marker='X', markersize=7)\n",
    "        ax.set_xlim([-0.02, 1.02])    \n",
    "        ax.set_ylim([-0.02, 1.02])\n",
    "        ax.set_xlabel('threshold')\n",
    "        ax.set_ylabel('F1')\n",
    "        ax.legend(loc='lower center')\n",
    "        ax.set_title(f'Valor F1') \n",
    "\n",
    "        # ROC\n",
    "        ax = axs[1]    \n",
    "        ax.plot(fpr, tpr, color=color, label=f'{type}, ROC AUC={roc_auc:.2f}')\n",
    "        # establecer cruces para algunos umbrales        \n",
    "        for threshold in (0.2, 0.4, 0.5, 0.6, 0.8):\n",
    "            closest_value_idx = np.argmin(np.abs(roc_thresholds-threshold))\n",
    "            marker_color = 'orange' if threshold != 0.5 else 'red'            \n",
    "            ax.plot(fpr[closest_value_idx], tpr[closest_value_idx], color=marker_color, marker='X', markersize=7)\n",
    "        ax.plot([0, 1], [0, 1], color='grey', linestyle='--')\n",
    "        ax.set_xlim([-0.02, 1.02])    \n",
    "        ax.set_ylim([-0.02, 1.02])\n",
    "        ax.set_xlabel('FPR')\n",
    "        ax.set_ylabel('TPR')\n",
    "        ax.legend(loc='lower center')        \n",
    "        ax.set_title(f'Curva ROC')\n",
    "        \n",
    "        # PRC\n",
    "        ax = axs[2]\n",
    "        ax.plot(recall, precision, color=color, label=f'{type}, AP={aps:.2f}')\n",
    "        # establecer cruces para algunos umbrales        \n",
    "        for threshold in (0.2, 0.4, 0.5, 0.6, 0.8):\n",
    "            closest_value_idx = np.argmin(np.abs(pr_thresholds-threshold))\n",
    "            marker_color = 'orange' if threshold != 0.5 else 'red'\n",
    "            ax.plot(recall[closest_value_idx], precision[closest_value_idx], color=marker_color, marker='X', markersize=7)\n",
    "        ax.set_xlim([-0.02, 1.02])    \n",
    "        ax.set_ylim([-0.02, 1.02])\n",
    "        ax.set_xlabel('recall')\n",
    "        ax.set_ylabel('precision')\n",
    "        ax.legend(loc='lower center')\n",
    "        ax.set_title(f'PRC')        \n",
    "\n",
    "        eval_stats[type]['Accuracy'] = metrics.accuracy_score(target, pred_target)\n",
    "        eval_stats[type]['F1'] = metrics.f1_score(target, pred_target)\n",
    "    \n",
    "    df_eval_stats = pd.DataFrame(eval_stats)\n",
    "    df_eval_stats = df_eval_stats.round(2)\n",
    "    df_eval_stats = df_eval_stats.reindex(index=('Exactitud', 'F1', 'APS', 'ROC AUC'))\n",
    "    \n",
    "    print(df_eval_stats)\n",
    "    \n",
    "    return"
   ]
  },
  {
   "cell_type": "markdown",
   "metadata": {},
   "source": [
    "## Normalización"
   ]
  },
  {
   "cell_type": "markdown",
   "metadata": {},
   "source": [
    "Suponemos que todos los modelos a continuación aceptan textos en minúsculas y sin dígitos, signos de puntuación, etc."
   ]
  },
  {
   "cell_type": "code",
   "execution_count": 14,
   "metadata": {},
   "outputs": [],
   "source": [
    "def normalize_text(text):\n",
    "    # Convertir a minúsculas\n",
    "    text = text.lower()\n",
    "    # Mantener letras y apóstrofes, y eliminar los demás caracteres\n",
    "    text = re.sub(r'[^a-z\\']', ' ', text)\n",
    "    # Eliminar espacios adicionales\n",
    "    text = re.sub(r'\\s+', ' ', text).strip()\n",
    "    return text"
   ]
  },
  {
   "cell_type": "code",
   "execution_count": 15,
   "metadata": {},
   "outputs": [],
   "source": [
    "# Aplicar la función de normalización a cada elemento de la columna 'review'\n",
    "df_reviews['review_norm'] = df_reviews['review'].apply(normalize_text)\n"
   ]
  },
  {
   "cell_type": "code",
   "execution_count": 16,
   "metadata": {},
   "outputs": [
    {
     "data": {
      "text/plain": [
       "Index(['tconst', 'title_type', 'primary_title', 'original_title', 'start_year',\n",
       "       'end_year', 'runtime_minutes', 'is_adult', 'genres', 'average_rating',\n",
       "       'votes', 'review', 'rating', 'sp', 'pos', 'ds_part', 'idx',\n",
       "       'review_norm'],\n",
       "      dtype='object')"
      ]
     },
     "execution_count": 16,
     "metadata": {},
     "output_type": "execute_result"
    }
   ],
   "source": [
    "df_reviews.columns"
   ]
  },
  {
   "cell_type": "markdown",
   "metadata": {},
   "source": [
    "# División del conjunto de datos (entrenamiento / prueba)"
   ]
  },
  {
   "cell_type": "markdown",
   "metadata": {},
   "source": [
    "Por fortuna, todo el conjunto de datos ya está dividido en partes de entrenamiento/prueba; 'ds_part' es el indicador correspondiente."
   ]
  },
  {
   "cell_type": "code",
   "execution_count": 17,
   "metadata": {},
   "outputs": [
    {
     "name": "stdout",
     "output_type": "stream",
     "text": [
      "(23796, 18)\n",
      "(23535, 18)\n"
     ]
    }
   ],
   "source": [
    "# Dividir el conjunto de datos en partes de entrenamiento y prueba(caracteristicas de entrenamiento y prueba)\n",
    "df_reviews_train = df_reviews.query('ds_part == \"train\"').copy()\n",
    "df_reviews_test = df_reviews.query('ds_part == \"test\"').copy()\n",
    "\n",
    "# Separar el objetivo (target) del conjunto de datos\n",
    "train_target = df_reviews_train['pos']\n",
    "test_target = df_reviews_test['pos']\n",
    "\n",
    "# Verificar las formas de los conjuntos de datos\n",
    "print(df_reviews_train.shape)\n",
    "print(df_reviews_test.shape)"
   ]
  },
  {
   "cell_type": "code",
   "execution_count": 18,
   "metadata": {},
   "outputs": [
    {
     "data": {
      "text/plain": [
       "Index(['tconst', 'title_type', 'primary_title', 'original_title', 'start_year',\n",
       "       'end_year', 'runtime_minutes', 'is_adult', 'genres', 'average_rating',\n",
       "       'votes', 'review', 'rating', 'sp', 'pos', 'ds_part', 'idx',\n",
       "       'review_norm'],\n",
       "      dtype='object')"
      ]
     },
     "execution_count": 18,
     "metadata": {},
     "output_type": "execute_result"
    }
   ],
   "source": [
    "df_reviews_train.columns #caracteristicas de entrenamiento"
   ]
  },
  {
   "cell_type": "code",
   "execution_count": 19,
   "metadata": {},
   "outputs": [
    {
     "data": {
      "text/plain": [
       "Index(['tconst', 'title_type', 'primary_title', 'original_title', 'start_year',\n",
       "       'end_year', 'runtime_minutes', 'is_adult', 'genres', 'average_rating',\n",
       "       'votes', 'review', 'rating', 'sp', 'pos', 'ds_part', 'idx',\n",
       "       'review_norm'],\n",
       "      dtype='object')"
      ]
     },
     "execution_count": 19,
     "metadata": {},
     "output_type": "execute_result"
    }
   ],
   "source": [
    "df_reviews_test.columns #caracteristicas de prueba"
   ]
  },
  {
   "cell_type": "markdown",
   "metadata": {},
   "source": [
    "# Trabajar con modelos"
   ]
  },
  {
   "cell_type": "markdown",
   "metadata": {},
   "source": [
    "### Modelo 1 - Constante"
   ]
  },
  {
   "cell_type": "code",
   "execution_count": 20,
   "metadata": {},
   "outputs": [],
   "source": [
    "from sklearn.dummy import DummyClassifier"
   ]
  },
  {
   "cell_type": "code",
   "execution_count": 21,
   "metadata": {},
   "outputs": [
    {
     "data": {
      "text/plain": [
       "DummyClassifier(constant=1, strategy='constant')"
      ]
     },
     "execution_count": 21,
     "metadata": {},
     "output_type": "execute_result"
    }
   ],
   "source": [
    "modelo_1 = DummyClassifier(strategy=\"constant\",constant=1)\n",
    "modelo_1.fit(df_reviews_train['review_norm'], train_target)"
   ]
  },
  {
   "cell_type": "code",
   "execution_count": 22,
   "metadata": {},
   "outputs": [
    {
     "name": "stdout",
     "output_type": "stream",
     "text": [
      "           train  test\n",
      "Exactitud    NaN   NaN\n",
      "F1          0.67  0.67\n",
      "APS         0.50  0.50\n",
      "ROC AUC     0.50  0.50\n"
     ]
    },
    {
     "data": {
      "image/png": "[encoded data removed]",
      "text/plain": [
       "<Figure size 2000x600 with 3 Axes>"
      ]
     },
     "metadata": {},
     "output_type": "display_data"
    }
   ],
   "source": [
    "# Evaluar el modelo usando la función evaluate_model\n",
    "evaluate_model(modelo_1, df_reviews_train['review_norm'], train_target, df_reviews_test['review_norm'], test_target)"
   ]
  },
  {
   "cell_type": "markdown",
   "metadata": {},
   "source": [
    "### Modelo 2 - NLTK, TF-IDF y LR"
   ]
  },
  {
   "cell_type": "markdown",
   "metadata": {},
   "source": [
    "TF-IDF"
   ]
  },
  {
   "cell_type": "code",
   "execution_count": 23,
   "metadata": {},
   "outputs": [],
   "source": [
    "import nltk\n",
    "\n",
    "from sklearn.feature_extraction.text import TfidfVectorizer\n",
    "from sklearn.linear_model import LogisticRegression\n",
    "\n",
    "from nltk.corpus import stopwords\n",
    "\n",
    "from nltk.tokenize import word_tokenize\n",
    "from nltk.stem import WordNetLemmatizer\n"
   ]
  },
  {
   "cell_type": "code",
   "execution_count": 26,
   "metadata": {},
   "outputs": [],
   "source": [
    "def tokenize_and_lemmatize(text):\n",
    "    lemmatizer = WordNetLemmatizer()\n",
    "    tokens = word_tokenize(text)\n",
    "    lemmatized_tokens = [lemmatizer.lemmatize(token) for token in tokens]\n",
    "    return ' '.join(lemmatized_tokens)\n",
    "    "
   ]
  },
  {
   "cell_type": "code",
   "execution_count": 30,
   "metadata": {},
   "outputs": [],
   "source": [
    "# Aplicando la función de tokenización y lematización a la columna normalizada\n",
    "df_reviews['token_lemma'] = df_reviews['review_norm'].apply(tokenize_and_lemmatize)"
   ]
  },
  {
   "cell_type": "code",
   "execution_count": 31,
   "metadata": {},
   "outputs": [
    {
     "data": {
      "text/plain": [
       "Index(['tconst', 'title_type', 'primary_title', 'original_title', 'start_year',\n",
       "       'end_year', 'runtime_minutes', 'is_adult', 'genres', 'average_rating',\n",
       "       'votes', 'review', 'rating', 'sp', 'pos', 'ds_part', 'idx',\n",
       "       'review_norm', 'token_lemma'],\n",
       "      dtype='object')"
      ]
     },
     "execution_count": 31,
     "metadata": {},
     "output_type": "execute_result"
    }
   ],
   "source": [
    "df_reviews.columns"
   ]
  },
  {
   "cell_type": "code",
   "execution_count": 33,
   "metadata": {},
   "outputs": [
    {
     "data": {
      "text/plain": [
       "Index(['tconst', 'title_type', 'primary_title', 'original_title', 'start_year',\n",
       "       'end_year', 'runtime_minutes', 'is_adult', 'genres', 'average_rating',\n",
       "       'votes', 'review', 'rating', 'sp', 'pos', 'ds_part', 'idx',\n",
       "       'review_norm'],\n",
       "      dtype='object')"
      ]
     },
     "execution_count": 33,
     "metadata": {},
     "output_type": "execute_result"
    }
   ],
   "source": [
    "df_reviews_train.columns"
   ]
  },
  {
   "cell_type": "code",
   "execution_count": 34,
   "metadata": {},
   "outputs": [],
   "source": [
    "# Dividir el conjunto de datos en entrenamiento y prueba\n",
    "df_reviews_train = df_reviews.query('ds_part == \"train\"').copy()\n",
    "df_reviews_test = df_reviews.query('ds_part == \"test\"').copy()\n",
    "\n",
    "train_target = df_reviews_train['pos']\n",
    "test_target = df_reviews_test['pos']"
   ]
  },
  {
   "cell_type": "code",
   "execution_count": 35,
   "metadata": {},
   "outputs": [
    {
     "name": "stderr",
     "output_type": "stream",
     "text": [
      "[nltk_data] Downloading package stopwords to /home/jovyan/nltk_data...\n",
      "[nltk_data]   Package stopwords is already up-to-date!\n"
     ]
    },
    {
     "data": {
      "text/plain": [
       "LogisticRegression()"
      ]
     },
     "execution_count": 35,
     "metadata": {},
     "output_type": "execute_result"
    }
   ],
   "source": [
    "# Descargar stopwords \n",
    "nltk.download('stopwords')\n",
    "\n",
    "\n",
    "# Definir el vectorizador TF-IDF\n",
    "tfidf_vectorizer_2 = TfidfVectorizer(stop_words=stopwords.words('english')) \n",
    "\n",
    "# Ajustar y transformar las reseñas de entrenamiento\n",
    "train_features_2 = tfidf_vectorizer_2.fit_transform(df_reviews_train['token_lemma'])\n",
    "\n",
    "# Transformar las reseñas de prueba\n",
    "test_features_2 = tfidf_vectorizer_2.transform(df_reviews_test['token_lemma'])\n",
    "\n",
    "# Definir y entrenar el modelo de regresión logística\n",
    "model_2 = LogisticRegression()\n",
    "model_2.fit(train_features_2, train_target)\n"
   ]
  },
  {
   "cell_type": "code",
   "execution_count": 36,
   "metadata": {},
   "outputs": [
    {
     "name": "stdout",
     "output_type": "stream",
     "text": [
      "           train  test\n",
      "Exactitud    NaN   NaN\n",
      "F1          0.94  0.88\n",
      "APS         0.98  0.95\n",
      "ROC AUC     0.98  0.95\n"
     ]
    },
    {
     "data": {
      "image/png": "[encoded data removed]",
      "text/plain": [
       "<Figure size 2000x600 with 3 Axes>"
      ]
     },
     "metadata": {},
     "output_type": "display_data"
    }
   ],
   "source": [
    "# Evaluar el modelo usando la función evaluate_model\n",
    "evaluate_model(model_2, train_features_2, train_target, test_features_2, test_target)"
   ]
  },
  {
   "cell_type": "markdown",
   "metadata": {},
   "source": [
    "### Modelo 3 - spaCy, TF-IDF y LR"
   ]
  },
  {
   "cell_type": "code",
   "execution_count": 30,
   "metadata": {},
   "outputs": [],
   "source": [
    "import spacy\n",
    "\n",
    "nlp = spacy.load('en_core_web_sm', disable=['parser', 'ner'])"
   ]
  },
  {
   "cell_type": "code",
   "execution_count": 31,
   "metadata": {},
   "outputs": [],
   "source": [
    "def text_preprocessing_3(text):\n",
    "    \n",
    "    doc = nlp(text)\n",
    "    #tokens = [token.lemma_ for token in doc if not token.is_stop]\n",
    "    tokens = [token.lemma_ for token in doc]\n",
    "    \n",
    "    return ' '.join(tokens)"
   ]
  },
  {
   "cell_type": "code",
   "execution_count": 32,
   "metadata": {},
   "outputs": [
    {
     "name": "stdout",
     "output_type": "stream",
     "text": [
      "CPU times: user 3 µs, sys: 0 ns, total: 3 µs\n",
      "Wall time: 7.15 µs\n"
     ]
    }
   ],
   "source": [
    "%time\n",
    "df_reviews['review_norm_spacy'] = df_reviews['review'].apply(text_preprocessing_3)"
   ]
  },
  {
   "cell_type": "code",
   "execution_count": 33,
   "metadata": {},
   "outputs": [
    {
     "data": {
      "text/plain": [
       "Index(['tconst', 'title_type', 'primary_title', 'original_title', 'start_year',\n",
       "       'end_year', 'runtime_minutes', 'is_adult', 'genres', 'average_rating',\n",
       "       'votes', 'review', 'rating', 'sp', 'pos', 'ds_part', 'idx',\n",
       "       'review_norm', 'review_norm_spacy'],\n",
       "      dtype='object')"
      ]
     },
     "execution_count": 33,
     "metadata": {},
     "output_type": "execute_result"
    }
   ],
   "source": [
    "df_reviews.columns"
   ]
  },
  {
   "cell_type": "code",
   "execution_count": 34,
   "metadata": {},
   "outputs": [
    {
     "data": {
      "text/plain": [
       "Index(['tconst', 'title_type', 'primary_title', 'original_title', 'start_year',\n",
       "       'end_year', 'runtime_minutes', 'is_adult', 'genres', 'average_rating',\n",
       "       'votes', 'review', 'rating', 'sp', 'pos', 'ds_part', 'idx',\n",
       "       'review_norm'],\n",
       "      dtype='object')"
      ]
     },
     "execution_count": 34,
     "metadata": {},
     "output_type": "execute_result"
    }
   ],
   "source": [
    "df_reviews_train.columns"
   ]
  },
  {
   "cell_type": "code",
   "execution_count": 35,
   "metadata": {},
   "outputs": [
    {
     "data": {
      "text/plain": [
       "Index(['tconst', 'title_type', 'primary_title', 'original_title', 'start_year',\n",
       "       'end_year', 'runtime_minutes', 'is_adult', 'genres', 'average_rating',\n",
       "       'votes', 'review', 'rating', 'sp', 'pos', 'ds_part', 'idx',\n",
       "       'review_norm'],\n",
       "      dtype='object')"
      ]
     },
     "execution_count": 35,
     "metadata": {},
     "output_type": "execute_result"
    }
   ],
   "source": [
    "df_reviews_test.columns"
   ]
  },
  {
   "cell_type": "code",
   "execution_count": 36,
   "metadata": {},
   "outputs": [],
   "source": [
    "# Dividir el conjunto de datos en entrenamiento y prueba\n",
    "df_reviews_train = df_reviews.query('ds_part == \"train\"').copy()\n",
    "df_reviews_test = df_reviews.query('ds_part == \"test\"').copy()\n",
    "\n",
    "train_target = df_reviews_train['pos']\n",
    "test_target = df_reviews_test['pos']"
   ]
  },
  {
   "cell_type": "code",
   "execution_count": 37,
   "metadata": {},
   "outputs": [
    {
     "name": "stderr",
     "output_type": "stream",
     "text": [
      "[nltk_data] Downloading package stopwords to /home/jovyan/nltk_data...\n",
      "[nltk_data]   Package stopwords is already up-to-date!\n"
     ]
    }
   ],
   "source": [
    "# Descargar stopwords si es necesario\n",
    "nltk.download('stopwords')\n",
    "\n",
    "# Definir el vectorizador TF-IDF\n",
    "tfidf_vectorizer_3 = TfidfVectorizer(stop_words = stopwords.words('english'))\n",
    "\n",
    "# Ajustar y transformar las reseñas de entrenamiento\n",
    "train_features_spacy = tfidf_vectorizer_3.fit_transform(df_reviews_train['review_norm_spacy'])\n",
    "\n",
    "# Transformar las reseñas de prueba\n",
    "test_features_spacy = tfidf_vectorizer_3.transform(df_reviews_test['review_norm_spacy'])"
   ]
  },
  {
   "cell_type": "code",
   "execution_count": 38,
   "metadata": {},
   "outputs": [
    {
     "data": {
      "text/plain": [
       "LogisticRegression()"
      ]
     },
     "execution_count": 38,
     "metadata": {},
     "output_type": "execute_result"
    }
   ],
   "source": [
    "# Definir y entrenar el modelo de regresión logística\n",
    "model_3 = LogisticRegression()\n",
    "model_3.fit(train_features_spacy, train_target)"
   ]
  },
  {
   "cell_type": "code",
   "execution_count": 39,
   "metadata": {},
   "outputs": [
    {
     "name": "stdout",
     "output_type": "stream",
     "text": [
      "           train  test\n",
      "Exactitud    NaN   NaN\n",
      "F1          0.93  0.88\n",
      "APS         0.98  0.95\n",
      "ROC AUC     0.98  0.95\n"
     ]
    },
    {
     "data": {
      "image/png": "[encoded data removed]",
      "text/plain": [
       "<Figure size 2000x600 with 3 Axes>"
      ]
     },
     "metadata": {},
     "output_type": "display_data"
    }
   ],
   "source": [
    "# Evaluar el modelo con spaCy, TF-IDF y Regresión Logística\n",
    "evaluate_model(model_3, train_features_spacy, train_target, test_features_spacy, test_target)"
   ]
  },
  {
   "cell_type": "markdown",
   "metadata": {},
   "source": [
    "### Modelo 4 - spaCy, TF-IDF y LGBMClassifier"
   ]
  },
  {
   "cell_type": "code",
   "execution_count": 40,
   "metadata": {},
   "outputs": [],
   "source": [
    " from lightgbm import LGBMClassifier"
   ]
  },
  {
   "cell_type": "code",
   "execution_count": 41,
   "metadata": {},
   "outputs": [
    {
     "data": {
      "text/plain": [
       "LGBMClassifier()"
      ]
     },
     "execution_count": 41,
     "metadata": {},
     "output_type": "execute_result"
    }
   ],
   "source": [
    "# Definir y entrenar el modelo LGBMClassifier\n",
    "model_4 = LGBMClassifier()\n",
    "model_4.fit(train_features_spacy, train_target)"
   ]
  },
  {
   "cell_type": "code",
   "execution_count": 42,
   "metadata": {},
   "outputs": [
    {
     "name": "stdout",
     "output_type": "stream",
     "text": [
      "           train  test\n",
      "Exactitud    NaN   NaN\n",
      "F1          0.92  0.86\n",
      "APS         0.97  0.93\n",
      "ROC AUC     0.97  0.94\n"
     ]
    },
    {
     "data": {
      "image/png": "[encoded data removed]",
      "text/plain": [
       "<Figure size 2000x600 with 3 Axes>"
      ]
     },
     "metadata": {},
     "output_type": "display_data"
    }
   ],
   "source": [
    "# Evaluar el modelo con spaCy, TF-IDF y LGBMClassifier\n",
    "evaluate_model(model_4, train_features_spacy, train_target, test_features_spacy, test_target)"
   ]
  },
  {
   "cell_type": "markdown",
   "metadata": {},
   "source": [
    "###  Modelo 9 - BERT"
   ]
  },
  {
   "cell_type": "code",
   "execution_count": 39,
   "metadata": {},
   "outputs": [],
   "source": [
    "import torch\n",
    "import transformers"
   ]
  },
  {
   "cell_type": "code",
   "execution_count": 41,
   "metadata": {},
   "outputs": [],
   "source": [
    "del fig, axs"
   ]
  },
  {
   "cell_type": "code",
   "execution_count": 42,
   "metadata": {},
   "outputs": [
    {
     "name": "stderr",
     "output_type": "stream",
     "text": [
      "Some weights of the model checkpoint at bert-base-uncased were not used when initializing BertModel: ['cls.predictions.transform.dense.weight', 'cls.predictions.bias', 'cls.seq_relationship.bias', 'cls.seq_relationship.weight', 'cls.predictions.transform.dense.bias', 'cls.predictions.transform.LayerNorm.weight', 'cls.predictions.transform.LayerNorm.bias', 'cls.predictions.decoder.weight']\n",
      "- This IS expected if you are initializing BertModel from the checkpoint of a model trained on another task or with another architecture (e.g. initializing a BertForSequenceClassification model from a BertForPreTraining model).\n",
      "- This IS NOT expected if you are initializing BertModel from the checkpoint of a model that you expect to be exactly identical (initializing a BertForSequenceClassification model from a BertForSequenceClassification model).\n"
     ]
    }
   ],
   "source": [
    "tokenizer = transformers.BertTokenizer.from_pretrained('bert-base-uncased')\n",
    "config = transformers.BertConfig.from_pretrained('bert-base-uncased')\n",
    "model_9 = transformers.BertModel.from_pretrained('bert-base-uncased')"
   ]
  },
  {
   "cell_type": "code",
   "execution_count": 43,
   "metadata": {},
   "outputs": [],
   "source": [
    "def BERT_text_to_embeddings(texts, max_length=512, batch_size=100, force_device=None, disable_progress_bar=False,truncation=True):\n",
    "    \n",
    "    ids_list = []\n",
    "    attention_mask_list = []\n",
    "\n",
    "    # texto al id de relleno de tokens junto con sus máscaras de atención \n",
    "       \n",
    "        \n",
    "    # <escribe tu código aquí para crear ids_list y attention_mask_list>\n",
    "    \n",
    "    # Convertir texto a IDs de tokens junto con sus máscaras de atención\n",
    "    for text in texts:\n",
    "        encoded = tokenizer.encode_plus(\n",
    "            text,\n",
    "            add_special_tokens=True,\n",
    "            max_length=max_length,\n",
    "            pad_to_max_length=True,\n",
    "            return_attention_mask=True,\n",
    "            return_tensors='pt'\n",
    "        )\n",
    "        ids_list.append(encoded['input_ids'].flatten())\n",
    "        attention_mask_list.append(encoded['attention_mask'].flatten())\n",
    "        \n",
    "    \n",
    "    if force_device is not None:\n",
    "        device = torch.device(force_device)\n",
    "    else:\n",
    "        device = torch.device('cuda' if torch.cuda.is_available() else 'cpu')\n",
    "        \n",
    "    model.to(device)\n",
    "    if not disable_progress_bar:\n",
    "        print(f'Uso del dispositivo {device}.')\n",
    "    \n",
    "    # obtener insertados en lotes\n",
    "    \n",
    "    embeddings = []\n",
    "\n",
    "    for i in tqdm(range(math.ceil(len(ids_list)/batch_size)), disable=disable_progress_bar):\n",
    "            \n",
    "        ids_batch = torch.LongTensor(ids_list[batch_size*i:batch_size*(i+1)]).to(device)\n",
    "        # <escribe tu código aquí para crear attention_mask_batch\n",
    "        attention_mask_batch = torch.stack(attention_mask_list[batch_size*i:batch_size*(i+1)]).to(device)\n",
    "            \n",
    "        with torch.no_grad():            \n",
    "            model.eval()\n",
    "            batch_embeddings = model(input_ids=ids_batch, attention_mask=attention_mask_batch)   \n",
    "        embeddings.append(batch_embeddings[0][:,0,:].detach().cpu().numpy())\n",
    "        \n",
    "    return np.concatenate(embeddings)"
   ]
  },
  {
   "cell_type": "code",
   "execution_count": 2,
   "metadata": {},
   "outputs": [
    {
     "name": "stdout",
     "output_type": "stream",
     "text": [
      "CPU times: user 3 µs, sys: 1 µs, total: 4 µs\n",
      "Wall time: 6.2 µs\n"
     ]
    }
   ],
   "source": [
    "%time\n",
    "# # ¡Atención! La ejecución de BERT para miles de textos puede llevar mucho tiempo en la CPU, al menos varias horas\n",
    "# Activar truncación al extraer embeddings\n",
    "train_features_9 = BERT_text_to_embeddings(df_reviews_train['review_norm'], force_device='cuda',truncation=True)"
   ]
  },
  {
   "cell_type": "code",
   "execution_count": null,
   "metadata": {},
   "outputs": [],
   "source": [
    "# Imprimir las dimensiones de los datos\n",
    "print(df_reviews_train['review_norm'].shape)\n",
    "print(train_features_9.shape)\n",
    "print(train_target.shape)"
   ]
  },
  {
   "cell_type": "code",
   "execution_count": null,
   "metadata": {},
   "outputs": [],
   "source": [
    "# si ya obtuvimos los insertados, recomendamos guardarlos para tenerlos listos \n",
    "# Guardar los embeddings extraídos para uso futuro\n",
    "np.savez_compressed('features_9.npz', train_features_9=train_features_9, test_features_9=test_features_9)\n",
    "\n",
    "# Cargar los embeddings guardados en el futuro\n",
    "# with np.load('features_9.npz') as data:\n",
    "#     train_features_9 = data['train_features_9']\n",
    "#     test_features_9 = data['test_features_9']"
   ]
  },
  {
   "cell_type": "markdown",
   "metadata": {},
   "source": [
    "## Mis reseñas(ejemplo de uso)"
   ]
  },
  {
   "cell_type": "code",
   "execution_count": 43,
   "metadata": {},
   "outputs": [
    {
     "data": {
      "text/html": [
       "<div>\n",
       "<style scoped>\n",
       "    .dataframe tbody tr th:only-of-type {\n",
       "        vertical-align: middle;\n",
       "    }\n",
       "\n",
       "    .dataframe tbody tr th {\n",
       "        vertical-align: top;\n",
       "    }\n",
       "\n",
       "    .dataframe thead th {\n",
       "        text-align: right;\n",
       "    }\n",
       "</style>\n",
       "<table border=\"1\" class=\"dataframe\">\n",
       "  <thead>\n",
       "    <tr style=\"text-align: right;\">\n",
       "      <th></th>\n",
       "      <th>review</th>\n",
       "      <th>review_norm</th>\n",
       "    </tr>\n",
       "  </thead>\n",
       "  <tbody>\n",
       "    <tr>\n",
       "      <th>0</th>\n",
       "      <td>I did not simply like it, not my kind of movie.</td>\n",
       "      <td>i did not simply like it not my kind of movie</td>\n",
       "    </tr>\n",
       "    <tr>\n",
       "      <th>1</th>\n",
       "      <td>Well, I was bored and felt asleep in the middl...</td>\n",
       "      <td>well i was bored and felt asleep in the middle...</td>\n",
       "    </tr>\n",
       "    <tr>\n",
       "      <th>2</th>\n",
       "      <td>I was really fascinated with the movie</td>\n",
       "      <td>i was really fascinated with the movie</td>\n",
       "    </tr>\n",
       "    <tr>\n",
       "      <th>3</th>\n",
       "      <td>Even the actors looked really old and disinter...</td>\n",
       "      <td>even the actors looked really old and disinter...</td>\n",
       "    </tr>\n",
       "    <tr>\n",
       "      <th>4</th>\n",
       "      <td>I didn't expect the reboot to be so good! Writ...</td>\n",
       "      <td>i didn't expect the reboot to be so good write...</td>\n",
       "    </tr>\n",
       "    <tr>\n",
       "      <th>5</th>\n",
       "      <td>The movie had its upsides and downsides, but I...</td>\n",
       "      <td>the movie had its upsides and downsides but i ...</td>\n",
       "    </tr>\n",
       "    <tr>\n",
       "      <th>6</th>\n",
       "      <td>What a rotten attempt at a comedy. Not a singl...</td>\n",
       "      <td>what a rotten attempt at a comedy not a single...</td>\n",
       "    </tr>\n",
       "    <tr>\n",
       "      <th>7</th>\n",
       "      <td>Launching on Netflix was a brave move &amp; I real...</td>\n",
       "      <td>launching on netflix was a brave move i really...</td>\n",
       "    </tr>\n",
       "  </tbody>\n",
       "</table>\n",
       "</div>"
      ],
      "text/plain": [
       "                                              review  \\\n",
       "0    I did not simply like it, not my kind of movie.   \n",
       "1  Well, I was bored and felt asleep in the middl...   \n",
       "2             I was really fascinated with the movie   \n",
       "3  Even the actors looked really old and disinter...   \n",
       "4  I didn't expect the reboot to be so good! Writ...   \n",
       "5  The movie had its upsides and downsides, but I...   \n",
       "6  What a rotten attempt at a comedy. Not a singl...   \n",
       "7  Launching on Netflix was a brave move & I real...   \n",
       "\n",
       "                                         review_norm  \n",
       "0      i did not simply like it not my kind of movie  \n",
       "1  well i was bored and felt asleep in the middle...  \n",
       "2             i was really fascinated with the movie  \n",
       "3  even the actors looked really old and disinter...  \n",
       "4  i didn't expect the reboot to be so good write...  \n",
       "5  the movie had its upsides and downsides but i ...  \n",
       "6  what a rotten attempt at a comedy not a single...  \n",
       "7  launching on netflix was a brave move i really...  "
      ]
     },
     "execution_count": 43,
     "metadata": {},
     "output_type": "execute_result"
    }
   ],
   "source": [
    "#  estas reseñas que se muestran a continuación son solo ejemplos\n",
    "\n",
    "my_reviews = pd.DataFrame([\n",
    "    'I did not simply like it, not my kind of movie.',\n",
    "    'Well, I was bored and felt asleep in the middle of the movie.',\n",
    "    'I was really fascinated with the movie',    \n",
    "    'Even the actors looked really old and disinterested, and they got paid to be in the movie. What a soulless cash grab.',\n",
    "    'I didn\\'t expect the reboot to be so good! Writers really cared about the source material',\n",
    "    'The movie had its upsides and downsides, but I feel like overall it\\'s a decent flick. I could see myself going to see it again.',\n",
    "    'What a rotten attempt at a comedy. Not a single joke lands, everyone acts annoying and loud, even kids won\\'t like this!',\n",
    "    'Launching on Netflix was a brave move & I really appreciate being able to binge on episode after episode, of this exciting intelligent new drama.'\n",
    "], columns=['review'])\n",
    "\n",
    "\"\"\"\n",
    "my_reviews = pd.DataFrame([\n",
    "    'Simplemente no me gustó, no es mi tipo de película.',\n",
    "    'Bueno, estaba aburrido y me quedé dormido a media película.',\n",
    "    'Estaba realmente fascinada con la película',    \n",
    "    'Hasta los actores parecían muy viejos y desinteresados, y les pagaron por estar en la película. Qué robo tan desalmado.',\n",
    "    '¡No esperaba que el relanzamiento fuera tan bueno! Los escritores realmente se preocuparon por el material original',\n",
    "    'La película tuvo sus altibajos, pero siento que, en general, es una película decente. Sí la volvería a ver',\n",
    "    'Qué pésimo intento de comedia. Ni una sola broma tiene sentido, todos actúan de forma irritante y ruidosa, ¡ni siquiera a los niños les gustará esto!',\n",
    "    'Fue muy valiente el lanzamiento en Netflix y realmente aprecio poder seguir viendo episodio tras episodio de este nuevo drama tan emocionante e inteligente.'\n",
    "], columns=['review'])\n",
    "\"\"\"\n",
    "\n",
    "my_reviews['review_norm'] =  my_reviews['review'].apply(normalize_text) \n",
    "my_reviews"
   ]
  },
  {
   "cell_type": "markdown",
   "metadata": {},
   "source": [
    "### Modelo 2"
   ]
  },
  {
   "cell_type": "code",
   "execution_count": 45,
   "metadata": {},
   "outputs": [
    {
     "name": "stdout",
     "output_type": "stream",
     "text": [
      "0.14:  i did not simply like it not my kind of movie\n",
      "0.16:  well i was bored and felt asleep in the middle of the movie\n",
      "0.54:  i was really fascinated with the movie\n",
      "0.11:  even the actors looked really old and disinterested and they got paid to be in the movie what a soul\n",
      "0.31:  i didn't expect the reboot to be so good writers really cared about the source material\n",
      "0.47:  the movie had its upsides and downsides but i feel like overall it's a decent flick i could see myse\n",
      "0.04:  what a rotten attempt at a comedy not a single joke lands everyone acts annoying and loud even kids \n",
      "0.82:  launching on netflix was a brave move i really appreciate being able to binge on episode after episo\n"
     ]
    }
   ],
   "source": [
    "texts = my_reviews['review_norm']\n",
    "\n",
    "my_reviews_pred_prob = model_2.predict_proba(tfidf_vectorizer_2.transform(texts))[:, 1]\n",
    "\n",
    "for i, review in enumerate(texts.str.slice(0, 100)):\n",
    "    print(f'{my_reviews_pred_prob[i]:.2f}:  {review}')"
   ]
  },
  {
   "cell_type": "markdown",
   "metadata": {},
   "source": [
    "### Modelo 3"
   ]
  },
  {
   "cell_type": "code",
   "execution_count": 46,
   "metadata": {},
   "outputs": [
    {
     "name": "stdout",
     "output_type": "stream",
     "text": [
      "0.21:  i did not simply like it not my kind of movie\n",
      "0.14:  well i was bored and felt asleep in the middle of the movie\n",
      "0.49:  i was really fascinated with the movie\n",
      "0.10:  even the actors looked really old and disinterested and they got paid to be in the movie what a soul\n",
      "0.27:  i didn't expect the reboot to be so good writers really cared about the source material\n",
      "0.49:  the movie had its upsides and downsides but i feel like overall it's a decent flick i could see myse\n",
      "0.03:  what a rotten attempt at a comedy not a single joke lands everyone acts annoying and loud even kids \n",
      "0.92:  launching on netflix was a brave move i really appreciate being able to binge on episode after episo\n"
     ]
    }
   ],
   "source": [
    "texts = my_reviews['review_norm']\n",
    "\n",
    "my_reviews_pred_prob = model_3.predict_proba(tfidf_vectorizer_3.transform(texts.apply(lambda x: text_preprocessing_3(x))))[:, 1]\n",
    "\n",
    "for i, review in enumerate(texts.str.slice(0, 100)):\n",
    "    print(f'{my_reviews_pred_prob[i]:.2f}:  {review}')"
   ]
  },
  {
   "cell_type": "markdown",
   "metadata": {},
   "source": [
    "### Modelo 4"
   ]
  },
  {
   "cell_type": "code",
   "execution_count": 47,
   "metadata": {},
   "outputs": [
    {
     "name": "stdout",
     "output_type": "stream",
     "text": [
      "0.59:  i did not simply like it not my kind of movie\n",
      "0.37:  well i was bored and felt asleep in the middle of the movie\n",
      "0.59:  i was really fascinated with the movie\n",
      "0.34:  even the actors looked really old and disinterested and they got paid to be in the movie what a soul\n",
      "0.62:  i didn't expect the reboot to be so good writers really cared about the source material\n",
      "0.67:  the movie had its upsides and downsides but i feel like overall it's a decent flick i could see myse\n",
      "0.26:  what a rotten attempt at a comedy not a single joke lands everyone acts annoying and loud even kids \n",
      "0.80:  launching on netflix was a brave move i really appreciate being able to binge on episode after episo\n"
     ]
    }
   ],
   "source": [
    "texts = my_reviews['review_norm']\n",
    "\n",
    "tfidf_vectorizer_4 = tfidf_vectorizer_3\n",
    "my_reviews_pred_prob = model_4.predict_proba(tfidf_vectorizer_4.transform(texts.apply(lambda x: text_preprocessing_3(x))))[:, 1]\n",
    "\n",
    "for i, review in enumerate(texts.str.slice(0, 100)):\n",
    "    print(f'{my_reviews_pred_prob[i]:.2f}:  {review}')"
   ]
  },
  {
   "cell_type": "markdown",
   "metadata": {},
   "source": [
    "### Modelo 9"
   ]
  },
  {
   "cell_type": "code",
   "execution_count": 48,
   "metadata": {
    "collapsed": true
   },
   "outputs": [
    {
     "ename": "NameError",
     "evalue": "name 'BERT_text_to_embeddings' is not defined",
     "output_type": "error",
     "traceback": [
      "\u001b[0;31m---------------------------------------------------------------------------\u001b[0m",
      "\u001b[0;31mNameError\u001b[0m                                 Traceback (most recent call last)",
      "Cell \u001b[0;32mIn[48], line 3\u001b[0m\n\u001b[1;32m      1\u001b[0m texts \u001b[38;5;241m=\u001b[39m my_reviews[\u001b[38;5;124m'\u001b[39m\u001b[38;5;124mreview_norm\u001b[39m\u001b[38;5;124m'\u001b[39m]\n\u001b[0;32m----> 3\u001b[0m my_reviews_features_9 \u001b[38;5;241m=\u001b[39m \u001b[43mBERT_text_to_embeddings\u001b[49m(texts, disable_progress_bar\u001b[38;5;241m=\u001b[39m\u001b[38;5;28;01mTrue\u001b[39;00m)\n\u001b[1;32m      5\u001b[0m my_reviews_pred_prob \u001b[38;5;241m=\u001b[39m model_9\u001b[38;5;241m.\u001b[39mpredict_proba(my_reviews_features_9)[:, \u001b[38;5;241m1\u001b[39m]\n\u001b[1;32m      7\u001b[0m \u001b[38;5;28;01mfor\u001b[39;00m i, review \u001b[38;5;129;01min\u001b[39;00m \u001b[38;5;28menumerate\u001b[39m(texts\u001b[38;5;241m.\u001b[39mstr\u001b[38;5;241m.\u001b[39mslice(\u001b[38;5;241m0\u001b[39m, \u001b[38;5;241m100\u001b[39m)):\n",
      "\u001b[0;31mNameError\u001b[0m: name 'BERT_text_to_embeddings' is not defined"
     ]
    }
   ],
   "source": [
    "texts = my_reviews['review_norm']\n",
    "\n",
    "my_reviews_features_9 = BERT_text_to_embeddings(texts, disable_progress_bar=True)\n",
    "\n",
    "my_reviews_pred_prob = model_9.predict_proba(my_reviews_features_9)[:, 1]\n",
    "\n",
    "for i, review in enumerate(texts.str.slice(0, 100)):\n",
    "    print(f'{my_reviews_pred_prob[i]:.2f}:  {review}')"
   ]
  },
  {
   "cell_type": "markdown",
   "metadata": {},
   "source": [
    "## Conclusiones"
   ]
  },
  {
   "cell_type": "markdown",
   "metadata": {},
   "source": [
    "El proyecto se centró en desarrollar un modelo de aprendizaje automático para la detección automática de críticas negativas en reseñas de películas, utilizando un conjunto de datos de IMDB. El objetivo principal era alcanzar un **valor F1 de al menos 0.85**, garantizando una alta precisión y un buen equilibrio entre las tasas de verdaderos positivos y falsos negativos."
   ]
  },
  {
   "cell_type": "markdown",
   "metadata": {},
   "source": [
    "**Metodologia**\n"
   ]
  },
  {
   "cell_type": "markdown",
   "metadata": {},
   "source": [
    "- Realizamos primeramente un analisis exploratorio de los datos(EDA)\n",
    "- Normalizamos las reseñas del texto\n",
    "- Tokenizamos y lematizamos las reseñas con librerias como NLTK Y Spacy y eliminamos las stopwords\n",
    "- Transformamos las reseñas en vectores TF-IDF para facilitar su procesamiento para los modelos de aprendizaje automatico\n",
    "- Se entrenaron y compararon varios modelos\n",
    "- Realizamos una funcion de evaluacion con algunas métricas y las pudimos visualizar\n",
    "    "
   ]
  },
  {
   "cell_type": "markdown",
   "metadata": {},
   "source": [
    "El proyecto logró sus objetivos principales al desarrollar un modelo robusto para la detección automática de críticas negativas en reseñas de películas. La combinación de técnicas avanzadas de preprocesamiento de texto, modelos de aprendizaje automático optimizados y una cuidadosa evaluación del rendimiento permitió alcanzar **un valor F1 mayor al 0.85.**, en nuestro **Modelo_2 y Modelo_3 un valor F1 de 0.88, en nuestro Modelo_4 un valor F1 de 0.86** de nuestros conjuntos de prueba. Este éxito demuestra el potencial de las técnicas de aprendizaje automático para mejorar la comprensión y gestión de la retroalimentación del cliente en diferentes reseñas de texto como en los ejemplos finales donde podemos medir la probabilidad de ser negativas.\n",
    "\n"
   ]
  }
 ],
 "metadata": {
  "ExecuteTimeLog": [
   {
    "duration": 5375,
    "start_time": "2024-06-29T01:19:52.028Z"
   },
   {
    "duration": 17,
    "start_time": "2024-06-29T01:19:57.406Z"
   },
   {
    "duration": 4,
    "start_time": "2024-06-29T01:20:12.834Z"
   },
   {
    "duration": 1098,
    "start_time": "2024-06-29T01:21:34.507Z"
   },
   {
    "duration": 412,
    "start_time": "2024-06-29T01:21:58.325Z"
   },
   {
    "duration": 36,
    "start_time": "2024-06-29T01:22:13.249Z"
   },
   {
    "duration": 21,
    "start_time": "2024-06-29T01:22:36.097Z"
   },
   {
    "duration": 40,
    "start_time": "2024-06-29T01:23:56.238Z"
   },
   {
    "duration": 8,
    "start_time": "2024-06-29T01:27:13.844Z"
   },
   {
    "duration": 8,
    "start_time": "2024-06-29T01:27:25.395Z"
   },
   {
    "duration": 9,
    "start_time": "2024-06-29T01:27:45.391Z"
   },
   {
    "duration": 8,
    "start_time": "2024-06-29T01:28:19.419Z"
   },
   {
    "duration": 246,
    "start_time": "2024-06-29T01:29:47.963Z"
   },
   {
    "duration": 4912,
    "start_time": "2024-07-02T17:52:25.824Z"
   },
   {
    "duration": 12,
    "start_time": "2024-07-02T17:52:45.908Z"
   },
   {
    "duration": 4,
    "start_time": "2024-07-02T17:52:46.193Z"
   },
   {
    "duration": 4,
    "start_time": "2024-07-02T19:20:25.150Z"
   },
   {
    "duration": 4986,
    "start_time": "2024-07-03T02:48:42.710Z"
   },
   {
    "duration": 11,
    "start_time": "2024-07-03T02:48:47.704Z"
   },
   {
    "duration": 4,
    "start_time": "2024-07-03T02:48:47.720Z"
   },
   {
    "duration": 1077,
    "start_time": "2024-07-03T02:48:47.728Z"
   },
   {
    "duration": 27,
    "start_time": "2024-07-03T02:48:48.811Z"
   },
   {
    "duration": 60,
    "start_time": "2024-07-03T02:48:48.841Z"
   },
   {
    "duration": 241,
    "start_time": "2024-07-03T02:48:48.904Z"
   },
   {
    "duration": 5178,
    "start_time": "2024-07-03T02:48:49.148Z"
   },
   {
    "duration": 1009,
    "start_time": "2024-07-03T02:48:54.329Z"
   },
   {
    "duration": 8,
    "start_time": "2024-07-03T02:48:55.343Z"
   },
   {
    "duration": 559,
    "start_time": "2024-07-03T02:48:55.354Z"
   },
   {
    "duration": 6685,
    "start_time": "2024-07-03T02:48:55.916Z"
   },
   {
    "duration": 5211,
    "start_time": "2024-07-03T02:49:37.100Z"
   },
   {
    "duration": 1306,
    "start_time": "2024-07-03T02:49:42.317Z"
   },
   {
    "duration": 11,
    "start_time": "2024-07-03T02:49:43.626Z"
   },
   {
    "duration": 545,
    "start_time": "2024-07-03T02:49:43.642Z"
   },
   {
    "duration": 6672,
    "start_time": "2024-07-03T02:49:44.190Z"
   },
   {
    "duration": 244,
    "start_time": "2024-07-03T02:49:50.865Z"
   },
   {
    "duration": 5,
    "start_time": "2024-07-03T03:15:14.447Z"
   },
   {
    "duration": 10,
    "start_time": "2024-07-03T03:15:14.618Z"
   },
   {
    "duration": 4,
    "start_time": "2024-07-03T03:15:14.770Z"
   },
   {
    "duration": 998,
    "start_time": "2024-07-03T03:15:15.076Z"
   },
   {
    "duration": 26,
    "start_time": "2024-07-03T03:15:16.077Z"
   },
   {
    "duration": 40,
    "start_time": "2024-07-03T03:15:16.106Z"
   },
   {
    "duration": 272,
    "start_time": "2024-07-03T03:15:16.150Z"
   },
   {
    "duration": 5288,
    "start_time": "2024-07-03T03:15:16.426Z"
   },
   {
    "duration": 1007,
    "start_time": "2024-07-03T03:15:21.718Z"
   },
   {
    "duration": 9,
    "start_time": "2024-07-03T03:15:22.728Z"
   },
   {
    "duration": 572,
    "start_time": "2024-07-03T03:15:22.740Z"
   },
   {
    "duration": 6762,
    "start_time": "2024-07-03T03:15:23.317Z"
   },
   {
    "duration": 152,
    "start_time": "2024-07-03T03:15:30.082Z"
   },
   {
    "duration": 419,
    "start_time": "2024-07-03T03:15:48.507Z"
   },
   {
    "duration": 8,
    "start_time": "2024-07-03T03:18:42.394Z"
   },
   {
    "duration": 6,
    "start_time": "2024-07-03T03:18:58.961Z"
   },
   {
    "duration": 64,
    "start_time": "2024-07-03T03:20:03.279Z"
   },
   {
    "duration": 27,
    "start_time": "2024-07-03T03:22:21.632Z"
   },
   {
    "duration": 4,
    "start_time": "2024-07-03T03:29:10.254Z"
   },
   {
    "duration": 3954,
    "start_time": "2024-07-03T03:30:26.875Z"
   },
   {
    "duration": 7,
    "start_time": "2024-07-03T03:30:30.832Z"
   },
   {
    "duration": 4,
    "start_time": "2024-07-03T03:31:44.816Z"
   },
   {
    "duration": 11,
    "start_time": "2024-07-03T03:31:44.965Z"
   },
   {
    "duration": 4,
    "start_time": "2024-07-03T03:31:45.074Z"
   },
   {
    "duration": 977,
    "start_time": "2024-07-03T03:31:45.508Z"
   },
   {
    "duration": 28,
    "start_time": "2024-07-03T03:31:46.488Z"
   },
   {
    "duration": 37,
    "start_time": "2024-07-03T03:31:46.519Z"
   },
   {
    "duration": 264,
    "start_time": "2024-07-03T03:31:46.560Z"
   },
   {
    "duration": 5281,
    "start_time": "2024-07-03T03:31:46.827Z"
   },
   {
    "duration": 1018,
    "start_time": "2024-07-03T03:31:52.112Z"
   },
   {
    "duration": 7,
    "start_time": "2024-07-03T03:31:53.134Z"
   },
   {
    "duration": 557,
    "start_time": "2024-07-03T03:31:53.144Z"
   },
   {
    "duration": 6661,
    "start_time": "2024-07-03T03:31:53.705Z"
   },
   {
    "duration": 36,
    "start_time": "2024-07-03T03:32:00.369Z"
   },
   {
    "duration": 5,
    "start_time": "2024-07-03T03:32:00.410Z"
   },
   {
    "duration": 3,
    "start_time": "2024-07-03T03:32:15.716Z"
   },
   {
    "duration": 4142,
    "start_time": "2024-07-03T03:32:16.159Z"
   },
   {
    "duration": 6,
    "start_time": "2024-07-03T03:32:20.304Z"
   },
   {
    "duration": 5,
    "start_time": "2024-07-03T03:34:05.421Z"
   },
   {
    "duration": 4984,
    "start_time": "2024-07-03T03:34:06.409Z"
   },
   {
    "duration": 6,
    "start_time": "2024-07-03T03:34:11.397Z"
   },
   {
    "duration": 4,
    "start_time": "2024-07-03T03:34:45.423Z"
   },
   {
    "duration": 1514,
    "start_time": "2024-07-03T03:34:47.839Z"
   },
   {
    "duration": 5,
    "start_time": "2024-07-03T03:34:49.357Z"
   },
   {
    "duration": 6,
    "start_time": "2024-07-03T03:37:45.649Z"
   },
   {
    "duration": 5,
    "start_time": "2024-07-03T03:38:25.038Z"
   },
   {
    "duration": 8389,
    "start_time": "2024-07-03T03:38:33.094Z"
   },
   {
    "duration": 13,
    "start_time": "2024-07-03T03:38:41.488Z"
   },
   {
    "duration": 34,
    "start_time": "2024-07-03T03:49:47.095Z"
   },
   {
    "duration": 445,
    "start_time": "2024-07-03T03:49:56.765Z"
   },
   {
    "duration": 116,
    "start_time": "2024-07-03T03:49:57.316Z"
   },
   {
    "duration": 48,
    "start_time": "2024-07-03T03:50:20.814Z"
   },
   {
    "duration": 14705,
    "start_time": "2024-07-03T03:50:31.701Z"
   },
   {
    "duration": 25,
    "start_time": "2024-07-03T03:55:41.746Z"
   },
   {
    "duration": 13546,
    "start_time": "2024-07-03T03:55:46.355Z"
   },
   {
    "duration": 1162,
    "start_time": "2024-07-03T03:55:59.905Z"
   },
   {
    "duration": 5,
    "start_time": "2024-07-03T03:57:11.762Z"
   },
   {
    "duration": 9,
    "start_time": "2024-07-03T03:57:12.307Z"
   },
   {
    "duration": 5,
    "start_time": "2024-07-03T04:02:19.536Z"
   },
   {
    "duration": 25,
    "start_time": "2024-07-03T04:02:19.959Z"
   },
   {
    "duration": 5,
    "start_time": "2024-07-03T04:02:26.130Z"
   },
   {
    "duration": 29,
    "start_time": "2024-07-03T04:02:28.246Z"
   },
   {
    "duration": 4,
    "start_time": "2024-07-03T04:02:44.450Z"
   },
   {
    "duration": 5,
    "start_time": "2024-07-03T04:02:44.748Z"
   },
   {
    "duration": 24,
    "start_time": "2024-07-03T04:02:45.054Z"
   },
   {
    "duration": 5774,
    "start_time": "2024-07-03T18:42:25.011Z"
   },
   {
    "duration": 12,
    "start_time": "2024-07-03T18:42:30.789Z"
   },
   {
    "duration": 5,
    "start_time": "2024-07-03T18:42:30.806Z"
   },
   {
    "duration": 1203,
    "start_time": "2024-07-03T18:42:30.833Z"
   },
   {
    "duration": 29,
    "start_time": "2024-07-03T18:42:32.042Z"
   },
   {
    "duration": 48,
    "start_time": "2024-07-03T18:42:32.075Z"
   },
   {
    "duration": 248,
    "start_time": "2024-07-03T18:42:32.130Z"
   },
   {
    "duration": 5363,
    "start_time": "2024-07-03T18:42:32.384Z"
   },
   {
    "duration": 1113,
    "start_time": "2024-07-03T18:42:37.750Z"
   },
   {
    "duration": 10,
    "start_time": "2024-07-03T18:42:38.868Z"
   },
   {
    "duration": 567,
    "start_time": "2024-07-03T18:42:38.883Z"
   },
   {
    "duration": 6766,
    "start_time": "2024-07-03T18:42:39.454Z"
   },
   {
    "duration": 376,
    "start_time": "2024-07-03T18:42:47.160Z"
   },
   {
    "duration": 8,
    "start_time": "2024-07-03T18:42:48.903Z"
   },
   {
    "duration": 8161,
    "start_time": "2024-07-03T18:42:51.717Z"
   },
   {
    "duration": 19,
    "start_time": "2024-07-03T18:42:59.882Z"
   },
   {
    "duration": 9,
    "start_time": "2024-07-03T18:42:59.905Z"
   },
   {
    "duration": 56,
    "start_time": "2024-07-03T18:42:59.920Z"
   },
   {
    "duration": 5,
    "start_time": "2024-07-03T19:01:31.234Z"
   },
   {
    "duration": 5,
    "start_time": "2024-07-03T19:01:31.564Z"
   },
   {
    "duration": 987,
    "start_time": "2024-07-03T19:01:33.167Z"
   },
   {
    "duration": 8,
    "start_time": "2024-07-03T19:03:29.501Z"
   },
   {
    "duration": 8,
    "start_time": "2024-07-03T19:03:38.795Z"
   },
   {
    "duration": 7,
    "start_time": "2024-07-03T19:03:45.159Z"
   },
   {
    "duration": 1153,
    "start_time": "2024-07-03T19:04:14.222Z"
   },
   {
    "duration": 38,
    "start_time": "2024-07-03T19:05:35.033Z"
   },
   {
    "duration": 8,
    "start_time": "2024-07-03T19:06:57.923Z"
   },
   {
    "duration": 87,
    "start_time": "2024-07-03T19:07:03.275Z"
   },
   {
    "duration": 7,
    "start_time": "2024-07-03T19:07:11.859Z"
   },
   {
    "duration": 7,
    "start_time": "2024-07-03T19:07:21.601Z"
   },
   {
    "duration": 3927,
    "start_time": "2024-07-03T19:12:09.862Z"
   },
   {
    "duration": 4,
    "start_time": "2024-07-03T19:12:13.792Z"
   },
   {
    "duration": 6,
    "start_time": "2024-07-03T19:17:34.769Z"
   },
   {
    "duration": 5459,
    "start_time": "2024-07-03T22:31:37.625Z"
   },
   {
    "duration": 18,
    "start_time": "2024-07-03T22:31:43.087Z"
   },
   {
    "duration": 4,
    "start_time": "2024-07-03T22:31:43.109Z"
   },
   {
    "duration": 1122,
    "start_time": "2024-07-03T22:31:43.117Z"
   },
   {
    "duration": 26,
    "start_time": "2024-07-03T22:31:44.242Z"
   },
   {
    "duration": 60,
    "start_time": "2024-07-03T22:31:44.271Z"
   },
   {
    "duration": 272,
    "start_time": "2024-07-03T22:31:44.335Z"
   },
   {
    "duration": 5506,
    "start_time": "2024-07-03T22:31:44.612Z"
   },
   {
    "duration": 1127,
    "start_time": "2024-07-03T22:31:50.123Z"
   },
   {
    "duration": 10,
    "start_time": "2024-07-03T22:31:51.256Z"
   },
   {
    "duration": 567,
    "start_time": "2024-07-03T22:31:51.270Z"
   },
   {
    "duration": 7051,
    "start_time": "2024-07-03T22:31:51.841Z"
   },
   {
    "duration": 396,
    "start_time": "2024-07-03T22:31:58.895Z"
   },
   {
    "duration": 9,
    "start_time": "2024-07-03T22:31:59.294Z"
   },
   {
    "duration": 8259,
    "start_time": "2024-07-03T22:31:59.307Z"
   },
   {
    "duration": 14,
    "start_time": "2024-07-03T22:32:07.574Z"
   },
   {
    "duration": 12,
    "start_time": "2024-07-03T22:32:07.591Z"
   },
   {
    "duration": 53,
    "start_time": "2024-07-03T22:32:07.607Z"
   },
   {
    "duration": 38,
    "start_time": "2024-07-03T22:32:07.664Z"
   },
   {
    "duration": 9,
    "start_time": "2024-07-03T22:32:07.706Z"
   },
   {
    "duration": 1090,
    "start_time": "2024-07-03T22:32:07.717Z"
   },
   {
    "duration": 7,
    "start_time": "2024-07-03T22:32:08.813Z"
   },
   {
    "duration": 265,
    "start_time": "2024-07-03T22:32:08.827Z"
   },
   {
    "duration": 10368,
    "start_time": "2024-07-03T22:32:09.101Z"
   },
   {
    "duration": 0,
    "start_time": "2024-07-03T22:32:19.475Z"
   },
   {
    "duration": 18396,
    "start_time": "2024-07-03T22:34:26.726Z"
   },
   {
    "duration": 1492,
    "start_time": "2024-07-03T22:34:45.132Z"
   },
   {
    "duration": 4263,
    "start_time": "2024-07-03T22:35:17.326Z"
   },
   {
    "duration": 20,
    "start_time": "2024-07-03T22:35:21.592Z"
   },
   {
    "duration": 1423,
    "start_time": "2024-07-03T22:43:38.209Z"
   },
   {
    "duration": 15,
    "start_time": "2024-07-03T22:43:39.636Z"
   },
   {
    "duration": 4,
    "start_time": "2024-07-03T22:43:39.655Z"
   },
   {
    "duration": 1082,
    "start_time": "2024-07-03T22:43:39.665Z"
   },
   {
    "duration": 23,
    "start_time": "2024-07-03T22:43:40.750Z"
   },
   {
    "duration": 66,
    "start_time": "2024-07-03T22:43:40.776Z"
   },
   {
    "duration": 272,
    "start_time": "2024-07-03T22:43:40.845Z"
   },
   {
    "duration": 5643,
    "start_time": "2024-07-03T22:43:41.123Z"
   },
   {
    "duration": 1135,
    "start_time": "2024-07-03T22:43:46.770Z"
   },
   {
    "duration": 12,
    "start_time": "2024-07-03T22:43:47.921Z"
   },
   {
    "duration": 653,
    "start_time": "2024-07-03T22:43:47.936Z"
   },
   {
    "duration": 6949,
    "start_time": "2024-07-03T22:43:48.592Z"
   },
   {
    "duration": 286,
    "start_time": "2024-07-03T22:43:55.544Z"
   },
   {
    "duration": 6,
    "start_time": "2024-07-03T22:43:55.833Z"
   },
   {
    "duration": 8887,
    "start_time": "2024-07-03T22:43:55.841Z"
   },
   {
    "duration": 6,
    "start_time": "2024-07-03T22:44:04.732Z"
   },
   {
    "duration": 7,
    "start_time": "2024-07-03T22:44:04.741Z"
   },
   {
    "duration": 79,
    "start_time": "2024-07-03T22:44:04.751Z"
   },
   {
    "duration": 6,
    "start_time": "2024-07-03T22:44:04.834Z"
   },
   {
    "duration": 6,
    "start_time": "2024-07-03T22:44:04.842Z"
   },
   {
    "duration": 1097,
    "start_time": "2024-07-03T22:44:04.851Z"
   },
   {
    "duration": 8,
    "start_time": "2024-07-03T22:44:05.952Z"
   },
   {
    "duration": 432,
    "start_time": "2024-07-03T22:44:05.964Z"
   },
   {
    "duration": 16430,
    "start_time": "2024-07-03T22:44:06.402Z"
   },
   {
    "duration": 1250,
    "start_time": "2024-07-03T22:44:22.836Z"
   },
   {
    "duration": 4169,
    "start_time": "2024-07-03T22:44:24.101Z"
   },
   {
    "duration": 4,
    "start_time": "2024-07-03T22:44:28.273Z"
   },
   {
    "duration": 1323,
    "start_time": "2024-07-03T22:45:34.174Z"
   },
   {
    "duration": 18,
    "start_time": "2024-07-03T22:45:35.503Z"
   },
   {
    "duration": 11,
    "start_time": "2024-07-03T22:45:35.525Z"
   },
   {
    "duration": 1103,
    "start_time": "2024-07-03T22:45:35.539Z"
   },
   {
    "duration": 28,
    "start_time": "2024-07-03T22:45:36.647Z"
   },
   {
    "duration": 78,
    "start_time": "2024-07-03T22:45:36.681Z"
   },
   {
    "duration": 274,
    "start_time": "2024-07-03T22:45:36.762Z"
   },
   {
    "duration": 5643,
    "start_time": "2024-07-03T22:45:37.039Z"
   },
   {
    "duration": 1109,
    "start_time": "2024-07-03T22:45:42.686Z"
   },
   {
    "duration": 10,
    "start_time": "2024-07-03T22:45:43.798Z"
   },
   {
    "duration": 643,
    "start_time": "2024-07-03T22:45:43.811Z"
   },
   {
    "duration": 7020,
    "start_time": "2024-07-03T22:45:44.457Z"
   },
   {
    "duration": 268,
    "start_time": "2024-07-03T22:45:51.480Z"
   },
   {
    "duration": 4,
    "start_time": "2024-07-03T22:45:51.755Z"
   },
   {
    "duration": 8812,
    "start_time": "2024-07-03T22:45:51.762Z"
   },
   {
    "duration": 10,
    "start_time": "2024-07-03T22:46:00.577Z"
   },
   {
    "duration": 15,
    "start_time": "2024-07-03T22:46:00.589Z"
   },
   {
    "duration": 56,
    "start_time": "2024-07-03T22:46:00.618Z"
   },
   {
    "duration": 6,
    "start_time": "2024-07-03T22:46:00.678Z"
   },
   {
    "duration": 40,
    "start_time": "2024-07-03T22:46:00.686Z"
   },
   {
    "duration": 1070,
    "start_time": "2024-07-03T22:46:00.730Z"
   },
   {
    "duration": 6,
    "start_time": "2024-07-03T22:46:01.807Z"
   },
   {
    "duration": 407,
    "start_time": "2024-07-03T22:46:01.818Z"
   },
   {
    "duration": 16280,
    "start_time": "2024-07-03T22:46:02.228Z"
   },
   {
    "duration": 1225,
    "start_time": "2024-07-03T22:46:18.511Z"
   },
   {
    "duration": 4139,
    "start_time": "2024-07-03T22:46:19.739Z"
   },
   {
    "duration": 5,
    "start_time": "2024-07-03T22:46:23.882Z"
   },
   {
    "duration": 1393,
    "start_time": "2024-07-03T22:48:13.674Z"
   },
   {
    "duration": 12,
    "start_time": "2024-07-03T22:48:15.070Z"
   },
   {
    "duration": 8,
    "start_time": "2024-07-03T22:48:15.104Z"
   },
   {
    "duration": 1112,
    "start_time": "2024-07-03T22:48:15.122Z"
   },
   {
    "duration": 26,
    "start_time": "2024-07-03T22:48:16.239Z"
   },
   {
    "duration": 48,
    "start_time": "2024-07-03T22:48:16.268Z"
   },
   {
    "duration": 263,
    "start_time": "2024-07-03T22:48:16.330Z"
   },
   {
    "duration": 5628,
    "start_time": "2024-07-03T22:48:16.596Z"
   },
   {
    "duration": 1039,
    "start_time": "2024-07-03T22:48:22.227Z"
   },
   {
    "duration": 10,
    "start_time": "2024-07-03T22:48:23.269Z"
   },
   {
    "duration": 649,
    "start_time": "2024-07-03T22:48:23.282Z"
   },
   {
    "duration": 6942,
    "start_time": "2024-07-03T22:48:23.935Z"
   },
   {
    "duration": 275,
    "start_time": "2024-07-03T22:48:30.881Z"
   },
   {
    "duration": 4,
    "start_time": "2024-07-03T22:48:31.163Z"
   },
   {
    "duration": 8758,
    "start_time": "2024-07-03T22:48:31.170Z"
   },
   {
    "duration": 8,
    "start_time": "2024-07-03T22:48:39.931Z"
   },
   {
    "duration": 8,
    "start_time": "2024-07-03T22:48:39.942Z"
   },
   {
    "duration": 82,
    "start_time": "2024-07-03T22:48:39.954Z"
   },
   {
    "duration": 6,
    "start_time": "2024-07-03T22:48:40.042Z"
   },
   {
    "duration": 6,
    "start_time": "2024-07-03T22:48:40.051Z"
   },
   {
    "duration": 1116,
    "start_time": "2024-07-03T22:48:40.060Z"
   },
   {
    "duration": 7,
    "start_time": "2024-07-03T22:48:41.179Z"
   },
   {
    "duration": 430,
    "start_time": "2024-07-03T22:48:41.190Z"
   },
   {
    "duration": 15781,
    "start_time": "2024-07-03T22:48:41.631Z"
   },
   {
    "duration": 1280,
    "start_time": "2024-07-03T22:48:57.424Z"
   },
   {
    "duration": 4078,
    "start_time": "2024-07-03T22:48:58.707Z"
   },
   {
    "duration": 5,
    "start_time": "2024-07-03T22:49:02.788Z"
   },
   {
    "duration": 1354584,
    "start_time": "2024-07-03T22:49:02.814Z"
   },
   {
    "duration": 2051,
    "start_time": "2024-07-03T23:11:37.410Z"
   },
   {
    "duration": 0,
    "start_time": "2024-07-03T23:11:39.464Z"
   },
   {
    "duration": 0,
    "start_time": "2024-07-03T23:11:39.466Z"
   },
   {
    "duration": 0,
    "start_time": "2024-07-03T23:11:39.469Z"
   },
   {
    "duration": 0,
    "start_time": "2024-07-03T23:11:39.519Z"
   },
   {
    "duration": 0,
    "start_time": "2024-07-03T23:11:39.520Z"
   },
   {
    "duration": 0,
    "start_time": "2024-07-03T23:11:39.526Z"
   },
   {
    "duration": 1,
    "start_time": "2024-07-03T23:11:39.527Z"
   },
   {
    "duration": 0,
    "start_time": "2024-07-03T23:11:39.531Z"
   },
   {
    "duration": 0,
    "start_time": "2024-07-03T23:11:39.535Z"
   },
   {
    "duration": 0,
    "start_time": "2024-07-03T23:11:39.545Z"
   },
   {
    "duration": 0,
    "start_time": "2024-07-03T23:11:39.548Z"
   },
   {
    "duration": 0,
    "start_time": "2024-07-03T23:11:39.550Z"
   },
   {
    "duration": 0,
    "start_time": "2024-07-03T23:11:39.552Z"
   },
   {
    "duration": 0,
    "start_time": "2024-07-03T23:11:39.555Z"
   },
   {
    "duration": 1351,
    "start_time": "2024-07-03T23:38:28.969Z"
   },
   {
    "duration": 16,
    "start_time": "2024-07-03T23:38:30.324Z"
   },
   {
    "duration": 4,
    "start_time": "2024-07-03T23:38:30.343Z"
   },
   {
    "duration": 1048,
    "start_time": "2024-07-03T23:38:30.350Z"
   },
   {
    "duration": 36,
    "start_time": "2024-07-03T23:38:31.411Z"
   },
   {
    "duration": 38,
    "start_time": "2024-07-03T23:38:31.450Z"
   },
   {
    "duration": 268,
    "start_time": "2024-07-03T23:38:31.506Z"
   },
   {
    "duration": 5648,
    "start_time": "2024-07-03T23:38:31.777Z"
   },
   {
    "duration": 1145,
    "start_time": "2024-07-03T23:38:37.429Z"
   },
   {
    "duration": 8,
    "start_time": "2024-07-03T23:38:38.577Z"
   },
   {
    "duration": 622,
    "start_time": "2024-07-03T23:38:38.602Z"
   },
   {
    "duration": 7031,
    "start_time": "2024-07-03T23:38:39.227Z"
   },
   {
    "duration": 290,
    "start_time": "2024-07-03T23:38:46.261Z"
   },
   {
    "duration": 5,
    "start_time": "2024-07-03T23:38:46.559Z"
   },
   {
    "duration": 9067,
    "start_time": "2024-07-03T23:38:46.569Z"
   },
   {
    "duration": 6,
    "start_time": "2024-07-03T23:38:55.639Z"
   },
   {
    "duration": 7,
    "start_time": "2024-07-03T23:38:55.649Z"
   },
   {
    "duration": 97,
    "start_time": "2024-07-03T23:38:55.659Z"
   },
   {
    "duration": 7,
    "start_time": "2024-07-03T23:38:55.759Z"
   },
   {
    "duration": 6,
    "start_time": "2024-07-03T23:38:55.769Z"
   },
   {
    "duration": 1208,
    "start_time": "2024-07-03T23:38:55.778Z"
   },
   {
    "duration": 6,
    "start_time": "2024-07-03T23:38:56.989Z"
   },
   {
    "duration": 414,
    "start_time": "2024-07-03T23:38:57.002Z"
   },
   {
    "duration": 16597,
    "start_time": "2024-07-03T23:38:57.419Z"
   },
   {
    "duration": 1241,
    "start_time": "2024-07-03T23:39:14.030Z"
   },
   {
    "duration": 4240,
    "start_time": "2024-07-03T23:39:15.274Z"
   },
   {
    "duration": 5,
    "start_time": "2024-07-03T23:39:19.517Z"
   },
   {
    "duration": 1201300,
    "start_time": "2024-07-03T23:39:19.526Z"
   },
   {
    "duration": 80,
    "start_time": "2024-07-03T23:59:20.829Z"
   },
   {
    "duration": 9307,
    "start_time": "2024-07-03T23:59:20.913Z"
   },
   {
    "duration": 4979,
    "start_time": "2024-07-03T23:59:30.224Z"
   },
   {
    "duration": 1362,
    "start_time": "2024-07-03T23:59:35.210Z"
   },
   {
    "duration": 48,
    "start_time": "2024-07-03T23:59:36.575Z"
   },
   {
    "duration": 57339,
    "start_time": "2024-07-03T23:59:36.630Z"
   },
   {
    "duration": 2273,
    "start_time": "2024-07-04T00:00:33.973Z"
   },
   {
    "duration": 236,
    "start_time": "2024-07-04T00:00:36.249Z"
   },
   {
    "duration": 3343,
    "start_time": "2024-07-04T00:00:36.488Z"
   },
   {
    "duration": 12,
    "start_time": "2024-07-04T00:00:39.834Z"
   },
   {
    "duration": 157660,
    "start_time": "2024-07-04T00:00:39.850Z"
   },
   {
    "duration": 0,
    "start_time": "2024-07-04T00:03:17.514Z"
   },
   {
    "duration": 0,
    "start_time": "2024-07-04T00:03:17.517Z"
   },
   {
    "duration": 0,
    "start_time": "2024-07-04T00:03:17.519Z"
   },
   {
    "duration": 0,
    "start_time": "2024-07-04T00:03:17.521Z"
   },
   {
    "duration": 0,
    "start_time": "2024-07-04T00:03:17.523Z"
   },
   {
    "duration": 0,
    "start_time": "2024-07-04T00:03:17.525Z"
   },
   {
    "duration": 0,
    "start_time": "2024-07-04T00:03:17.527Z"
   },
   {
    "duration": 55,
    "start_time": "2024-07-04T00:23:26.983Z"
   },
   {
    "duration": 22,
    "start_time": "2024-07-04T00:23:35.627Z"
   },
   {
    "duration": 51,
    "start_time": "2024-07-04T00:24:08.563Z"
   },
   {
    "duration": 21,
    "start_time": "2024-07-04T00:24:14.673Z"
   },
   {
    "duration": 36,
    "start_time": "2024-07-04T00:40:52.800Z"
   },
   {
    "duration": 4,
    "start_time": "2024-07-04T01:13:20.919Z"
   },
   {
    "duration": 4928,
    "start_time": "2024-07-04T01:13:21.736Z"
   },
   {
    "duration": 6,
    "start_time": "2024-07-04T01:13:26.667Z"
   },
   {
    "duration": 24,
    "start_time": "2024-07-04T01:13:26.677Z"
   },
   {
    "duration": 4945,
    "start_time": "2024-07-05T02:07:56.233Z"
   },
   {
    "duration": 10,
    "start_time": "2024-07-05T02:08:01.182Z"
   },
   {
    "duration": 5,
    "start_time": "2024-07-05T02:08:01.202Z"
   },
   {
    "duration": 1047,
    "start_time": "2024-07-05T02:08:01.212Z"
   },
   {
    "duration": 23,
    "start_time": "2024-07-05T02:08:02.263Z"
   },
   {
    "duration": 46,
    "start_time": "2024-07-05T02:08:02.301Z"
   },
   {
    "duration": 259,
    "start_time": "2024-07-05T02:08:02.351Z"
   },
   {
    "duration": 5149,
    "start_time": "2024-07-05T02:08:02.613Z"
   },
   {
    "duration": 1057,
    "start_time": "2024-07-05T02:08:07.765Z"
   },
   {
    "duration": 9,
    "start_time": "2024-07-05T02:08:08.826Z"
   },
   {
    "duration": 570,
    "start_time": "2024-07-05T02:08:08.840Z"
   },
   {
    "duration": 6554,
    "start_time": "2024-07-05T02:08:09.413Z"
   },
   {
    "duration": 361,
    "start_time": "2024-07-05T02:08:15.970Z"
   },
   {
    "duration": 243,
    "start_time": "2024-07-05T02:08:16.334Z"
   },
   {
    "duration": 4,
    "start_time": "2024-07-05T02:08:23.960Z"
   },
   {
    "duration": 240,
    "start_time": "2024-07-05T02:08:27.139Z"
   },
   {
    "duration": 233,
    "start_time": "2024-07-05T02:21:09.158Z"
   },
   {
    "duration": 114791,
    "start_time": "2024-07-05T02:22:00.793Z"
   },
   {
    "duration": 18,
    "start_time": "2024-07-05T02:23:55.588Z"
   },
   {
    "duration": 2701,
    "start_time": "2024-07-05T02:23:55.609Z"
   },
   {
    "duration": 54,
    "start_time": "2024-07-05T02:39:58.732Z"
   },
   {
    "duration": 58611,
    "start_time": "2024-07-05T02:41:57.873Z"
   },
   {
    "duration": 17,
    "start_time": "2024-07-05T02:43:54.888Z"
   },
   {
    "duration": 25,
    "start_time": "2024-07-05T02:45:52.884Z"
   },
   {
    "duration": 24,
    "start_time": "2024-07-05T02:46:31.246Z"
   },
   {
    "duration": 83,
    "start_time": "2024-07-05T02:46:56.458Z"
   },
   {
    "duration": 29,
    "start_time": "2024-07-05T02:47:48.795Z"
   },
   {
    "duration": 10483,
    "start_time": "2024-07-05T02:48:24.477Z"
   },
   {
    "duration": 111,
    "start_time": "2024-07-05T02:57:04.310Z"
   },
   {
    "duration": 1378,
    "start_time": "2024-07-05T02:57:45.200Z"
   },
   {
    "duration": 21,
    "start_time": "2024-07-05T02:57:46.581Z"
   },
   {
    "duration": 7,
    "start_time": "2024-07-05T02:57:46.605Z"
   },
   {
    "duration": 1081,
    "start_time": "2024-07-05T02:57:46.617Z"
   },
   {
    "duration": 25,
    "start_time": "2024-07-05T02:57:47.703Z"
   },
   {
    "duration": 39,
    "start_time": "2024-07-05T02:57:47.731Z"
   },
   {
    "duration": 240,
    "start_time": "2024-07-05T02:57:47.801Z"
   },
   {
    "duration": 5156,
    "start_time": "2024-07-05T02:57:48.046Z"
   },
   {
    "duration": 1018,
    "start_time": "2024-07-05T02:57:53.205Z"
   },
   {
    "duration": 9,
    "start_time": "2024-07-05T02:57:54.227Z"
   },
   {
    "duration": 645,
    "start_time": "2024-07-05T02:57:54.240Z"
   },
   {
    "duration": 6647,
    "start_time": "2024-07-05T02:57:54.888Z"
   },
   {
    "duration": 242,
    "start_time": "2024-07-05T02:58:01.540Z"
   },
   {
    "duration": 362,
    "start_time": "2024-07-05T02:58:01.786Z"
   },
   {
    "duration": 5,
    "start_time": "2024-07-05T02:58:02.151Z"
   },
   {
    "duration": 113337,
    "start_time": "2024-07-05T02:58:02.159Z"
   },
   {
    "duration": 18,
    "start_time": "2024-07-05T02:59:55.502Z"
   },
   {
    "duration": 61468,
    "start_time": "2024-07-05T02:59:55.523Z"
   },
   {
    "duration": 19,
    "start_time": "2024-07-05T03:00:56.994Z"
   },
   {
    "duration": 11484,
    "start_time": "2024-07-05T03:00:57.018Z"
   },
   {
    "duration": 5059,
    "start_time": "2024-07-05T07:21:54.264Z"
   },
   {
    "duration": 11,
    "start_time": "2024-07-05T07:21:59.327Z"
   },
   {
    "duration": 5,
    "start_time": "2024-07-05T07:21:59.341Z"
   },
   {
    "duration": 1094,
    "start_time": "2024-07-05T07:21:59.351Z"
   },
   {
    "duration": 25,
    "start_time": "2024-07-05T07:22:00.448Z"
   },
   {
    "duration": 59,
    "start_time": "2024-07-05T07:22:00.476Z"
   },
   {
    "duration": 267,
    "start_time": "2024-07-05T07:22:00.539Z"
   },
   {
    "duration": 5298,
    "start_time": "2024-07-05T07:22:00.810Z"
   },
   {
    "duration": 1053,
    "start_time": "2024-07-05T07:22:06.111Z"
   },
   {
    "duration": 9,
    "start_time": "2024-07-05T07:22:07.170Z"
   },
   {
    "duration": 555,
    "start_time": "2024-07-05T07:22:07.183Z"
   },
   {
    "duration": 7162,
    "start_time": "2024-07-05T07:22:07.742Z"
   },
   {
    "duration": 247,
    "start_time": "2024-07-05T07:22:14.907Z"
   },
   {
    "duration": 261,
    "start_time": "2024-07-05T07:22:15.157Z"
   },
   {
    "duration": 5,
    "start_time": "2024-07-05T07:22:15.420Z"
   },
   {
    "duration": 116685,
    "start_time": "2024-07-05T07:22:15.428Z"
   },
   {
    "duration": 47,
    "start_time": "2024-07-05T07:24:12.116Z"
   },
   {
    "duration": 62738,
    "start_time": "2024-07-05T07:24:12.166Z"
   },
   {
    "duration": 15,
    "start_time": "2024-07-05T07:25:14.909Z"
   },
   {
    "duration": 510,
    "start_time": "2024-07-05T07:25:14.929Z"
   },
   {
    "duration": 0,
    "start_time": "2024-07-05T07:25:15.442Z"
   },
   {
    "duration": 41,
    "start_time": "2024-07-05T07:26:58.404Z"
   },
   {
    "duration": 37,
    "start_time": "2024-07-05T07:27:10.753Z"
   },
   {
    "duration": 3385,
    "start_time": "2024-07-05T07:45:00.165Z"
   },
   {
    "duration": 718,
    "start_time": "2024-07-05T07:46:31.961Z"
   },
   {
    "duration": 3,
    "start_time": "2024-07-05T07:46:32.684Z"
   },
   {
    "duration": 6,
    "start_time": "2024-07-05T07:46:33.186Z"
   },
   {
    "duration": 433,
    "start_time": "2024-07-05T07:46:33.828Z"
   },
   {
    "duration": 66,
    "start_time": "2024-07-05T07:48:35.373Z"
   },
   {
    "duration": 8170,
    "start_time": "2024-07-05T19:12:41.371Z"
   },
   {
    "duration": 11,
    "start_time": "2024-07-05T19:12:49.545Z"
   },
   {
    "duration": 4,
    "start_time": "2024-07-05T19:12:49.559Z"
   },
   {
    "duration": 1019,
    "start_time": "2024-07-05T19:12:49.568Z"
   },
   {
    "duration": 26,
    "start_time": "2024-07-05T19:12:50.590Z"
   },
   {
    "duration": 38,
    "start_time": "2024-07-05T19:12:50.631Z"
   },
   {
    "duration": 260,
    "start_time": "2024-07-05T19:12:50.672Z"
   },
   {
    "duration": 5297,
    "start_time": "2024-07-05T19:12:57.706Z"
   },
   {
    "duration": 1027,
    "start_time": "2024-07-05T19:13:03.007Z"
   },
   {
    "duration": 11,
    "start_time": "2024-07-05T19:13:04.037Z"
   },
   {
    "duration": 554,
    "start_time": "2024-07-05T19:13:04.054Z"
   },
   {
    "duration": 6637,
    "start_time": "2024-07-05T19:13:04.611Z"
   },
   {
    "duration": 83,
    "start_time": "2024-07-05T19:13:11.251Z"
   },
   {
    "duration": 702,
    "start_time": "2024-07-05T19:13:20.237Z"
   },
   {
    "duration": 3,
    "start_time": "2024-07-05T19:13:20.942Z"
   },
   {
    "duration": 5,
    "start_time": "2024-07-05T19:13:21.654Z"
   },
   {
    "duration": 4536,
    "start_time": "2024-07-05T19:18:04.731Z"
   },
   {
    "duration": 10,
    "start_time": "2024-07-05T19:18:09.271Z"
   },
   {
    "duration": 4,
    "start_time": "2024-07-05T19:18:09.287Z"
   },
   {
    "duration": 986,
    "start_time": "2024-07-05T19:18:09.296Z"
   },
   {
    "duration": 28,
    "start_time": "2024-07-05T19:18:10.286Z"
   },
   {
    "duration": 39,
    "start_time": "2024-07-05T19:18:10.331Z"
   },
   {
    "duration": 252,
    "start_time": "2024-07-05T19:18:10.372Z"
   },
   {
    "duration": 5207,
    "start_time": "2024-07-05T19:18:10.631Z"
   },
   {
    "duration": 994,
    "start_time": "2024-07-05T19:18:15.842Z"
   },
   {
    "duration": 8,
    "start_time": "2024-07-05T19:18:16.842Z"
   },
   {
    "duration": 563,
    "start_time": "2024-07-05T19:18:16.853Z"
   },
   {
    "duration": 6639,
    "start_time": "2024-07-05T19:18:17.419Z"
   },
   {
    "duration": 73,
    "start_time": "2024-07-05T19:18:24.061Z"
   },
   {
    "duration": 718,
    "start_time": "2024-07-05T19:18:24.137Z"
   },
   {
    "duration": 4,
    "start_time": "2024-07-05T19:18:24.859Z"
   },
   {
    "duration": 7,
    "start_time": "2024-07-05T19:18:24.867Z"
   },
   {
    "duration": 4661,
    "start_time": "2024-07-05T19:29:56.571Z"
   },
   {
    "duration": 11,
    "start_time": "2024-07-05T19:30:01.236Z"
   },
   {
    "duration": 4,
    "start_time": "2024-07-05T19:30:01.250Z"
   },
   {
    "duration": 1019,
    "start_time": "2024-07-05T19:30:01.257Z"
   },
   {
    "duration": 25,
    "start_time": "2024-07-05T19:30:02.280Z"
   },
   {
    "duration": 60,
    "start_time": "2024-07-05T19:30:02.308Z"
   },
   {
    "duration": 261,
    "start_time": "2024-07-05T19:30:02.371Z"
   },
   {
    "duration": 5248,
    "start_time": "2024-07-05T19:30:02.636Z"
   },
   {
    "duration": 1071,
    "start_time": "2024-07-05T19:30:07.887Z"
   },
   {
    "duration": 8,
    "start_time": "2024-07-05T19:30:08.962Z"
   },
   {
    "duration": 561,
    "start_time": "2024-07-05T19:30:08.972Z"
   },
   {
    "duration": 6675,
    "start_time": "2024-07-05T19:30:09.536Z"
   },
   {
    "duration": 77,
    "start_time": "2024-07-05T19:30:16.213Z"
   },
   {
    "duration": 741,
    "start_time": "2024-07-05T19:30:16.297Z"
   },
   {
    "duration": 4,
    "start_time": "2024-07-05T19:30:17.041Z"
   },
   {
    "duration": 5,
    "start_time": "2024-07-05T19:30:17.049Z"
   },
   {
    "duration": 8660,
    "start_time": "2024-07-05T22:19:47.041Z"
   },
   {
    "duration": 14,
    "start_time": "2024-07-05T22:19:55.706Z"
   },
   {
    "duration": 5,
    "start_time": "2024-07-05T22:19:55.722Z"
   },
   {
    "duration": 1109,
    "start_time": "2024-07-05T22:19:55.732Z"
   },
   {
    "duration": 30,
    "start_time": "2024-07-05T22:19:56.845Z"
   },
   {
    "duration": 65,
    "start_time": "2024-07-05T22:19:56.878Z"
   },
   {
    "duration": 277,
    "start_time": "2024-07-05T22:19:56.949Z"
   },
   {
    "duration": 5265,
    "start_time": "2024-07-05T22:19:57.229Z"
   },
   {
    "duration": 1029,
    "start_time": "2024-07-05T22:20:02.498Z"
   },
   {
    "duration": 11,
    "start_time": "2024-07-05T22:20:03.532Z"
   },
   {
    "duration": 556,
    "start_time": "2024-07-05T22:20:03.546Z"
   },
   {
    "duration": 6784,
    "start_time": "2024-07-05T22:20:04.105Z"
   },
   {
    "duration": 77,
    "start_time": "2024-07-05T22:20:10.892Z"
   },
   {
    "duration": 39,
    "start_time": "2024-07-05T22:21:24.983Z"
   },
   {
    "duration": 13,
    "start_time": "2024-07-05T22:21:33.441Z"
   },
   {
    "duration": 16,
    "start_time": "2024-07-05T22:21:33.775Z"
   },
   {
    "duration": 9,
    "start_time": "2024-07-05T22:21:34.200Z"
   },
   {
    "duration": 1220,
    "start_time": "2024-07-05T22:21:35.463Z"
   },
   {
    "duration": 5,
    "start_time": "2024-07-05T22:57:03.111Z"
   },
   {
    "duration": 8268,
    "start_time": "2024-07-05T23:00:20.430Z"
   },
   {
    "duration": 6,
    "start_time": "2024-07-05T23:00:33.190Z"
   },
   {
    "duration": 6,
    "start_time": "2024-07-05T23:00:38.545Z"
   },
   {
    "duration": 4,
    "start_time": "2024-07-05T23:19:27.667Z"
   },
   {
    "duration": 15,
    "start_time": "2024-07-05T23:19:30.201Z"
   },
   {
    "duration": 9,
    "start_time": "2024-07-05T23:19:30.673Z"
   },
   {
    "duration": 1034,
    "start_time": "2024-07-05T23:19:31.726Z"
   },
   {
    "duration": 277,
    "start_time": "2024-07-05T23:20:06.291Z"
   },
   {
    "duration": 1940,
    "start_time": "2024-07-05T23:20:06.703Z"
   },
   {
    "duration": 5,
    "start_time": "2024-07-05T23:42:30.768Z"
   },
   {
    "duration": 8581,
    "start_time": "2024-07-05T23:42:43.913Z"
   },
   {
    "duration": 7,
    "start_time": "2024-07-05T23:42:52.501Z"
   },
   {
    "duration": 12,
    "start_time": "2024-07-05T23:42:52.512Z"
   },
   {
    "duration": 4,
    "start_time": "2024-07-05T23:46:36.540Z"
   },
   {
    "duration": 163,
    "start_time": "2024-07-05T23:46:36.847Z"
   },
   {
    "duration": 5,
    "start_time": "2024-07-05T23:46:59.537Z"
   },
   {
    "duration": 21,
    "start_time": "2024-07-05T23:46:59.684Z"
   },
   {
    "duration": 7,
    "start_time": "2024-07-05T23:46:59.812Z"
   },
   {
    "duration": 976,
    "start_time": "2024-07-05T23:47:00.087Z"
   },
   {
    "duration": 21,
    "start_time": "2024-07-05T23:47:01.067Z"
   },
   {
    "duration": 54,
    "start_time": "2024-07-05T23:47:01.103Z"
   },
   {
    "duration": 266,
    "start_time": "2024-07-05T23:47:01.162Z"
   },
   {
    "duration": 5266,
    "start_time": "2024-07-05T23:47:01.431Z"
   },
   {
    "duration": 1049,
    "start_time": "2024-07-05T23:47:06.705Z"
   },
   {
    "duration": 11,
    "start_time": "2024-07-05T23:47:07.758Z"
   },
   {
    "duration": 580,
    "start_time": "2024-07-05T23:47:07.772Z"
   },
   {
    "duration": 7107,
    "start_time": "2024-07-05T23:47:08.356Z"
   },
   {
    "duration": 41,
    "start_time": "2024-07-05T23:47:15.466Z"
   },
   {
    "duration": 5,
    "start_time": "2024-07-05T23:47:15.516Z"
   },
   {
    "duration": 5,
    "start_time": "2024-07-05T23:47:15.525Z"
   },
   {
    "duration": 4,
    "start_time": "2024-07-05T23:47:15.536Z"
   },
   {
    "duration": 19,
    "start_time": "2024-07-05T23:47:15.544Z"
   },
   {
    "duration": 6,
    "start_time": "2024-07-05T23:47:15.568Z"
   },
   {
    "duration": 8452,
    "start_time": "2024-07-05T23:47:15.578Z"
   },
   {
    "duration": 7,
    "start_time": "2024-07-05T23:47:24.033Z"
   },
   {
    "duration": 7,
    "start_time": "2024-07-05T23:47:24.045Z"
   },
   {
    "duration": 28,
    "start_time": "2024-07-05T23:48:16.678Z"
   },
   {
    "duration": 46,
    "start_time": "2024-07-05T23:48:24.012Z"
   },
   {
    "duration": 61,
    "start_time": "2024-07-05T23:49:05.719Z"
   },
   {
    "duration": 4,
    "start_time": "2024-07-05T23:49:14.983Z"
   },
   {
    "duration": 7,
    "start_time": "2024-07-05T23:49:15.505Z"
   },
   {
    "duration": 1055,
    "start_time": "2024-07-05T23:49:38.283Z"
   },
   {
    "duration": 5,
    "start_time": "2024-07-05T23:50:13.746Z"
   },
   {
    "duration": 13517,
    "start_time": "2024-07-05T23:50:15.002Z"
   },
   {
    "duration": 1266,
    "start_time": "2024-07-05T23:50:28.524Z"
   },
   {
    "duration": 794,
    "start_time": "2024-07-05T23:50:39.171Z"
   },
   {
    "duration": 5,
    "start_time": "2024-07-05T23:50:39.969Z"
   },
   {
    "duration": 4873,
    "start_time": "2024-07-05T23:55:15.420Z"
   },
   {
    "duration": 11,
    "start_time": "2024-07-05T23:55:20.304Z"
   },
   {
    "duration": 7,
    "start_time": "2024-07-05T23:55:20.323Z"
   },
   {
    "duration": 969,
    "start_time": "2024-07-05T23:55:20.333Z"
   },
   {
    "duration": 29,
    "start_time": "2024-07-05T23:55:21.308Z"
   },
   {
    "duration": 65,
    "start_time": "2024-07-05T23:55:21.340Z"
   },
   {
    "duration": 256,
    "start_time": "2024-07-05T23:55:21.409Z"
   },
   {
    "duration": 5494,
    "start_time": "2024-07-05T23:55:21.668Z"
   },
   {
    "duration": 1087,
    "start_time": "2024-07-05T23:55:27.166Z"
   },
   {
    "duration": 16,
    "start_time": "2024-07-05T23:55:28.259Z"
   },
   {
    "duration": 551,
    "start_time": "2024-07-05T23:55:28.279Z"
   },
   {
    "duration": 6729,
    "start_time": "2024-07-05T23:55:28.834Z"
   },
   {
    "duration": 81,
    "start_time": "2024-07-05T23:55:35.566Z"
   },
   {
    "duration": 9,
    "start_time": "2024-07-05T23:55:35.654Z"
   },
   {
    "duration": 4,
    "start_time": "2024-07-05T23:55:35.666Z"
   },
   {
    "duration": 28,
    "start_time": "2024-07-05T23:55:35.674Z"
   },
   {
    "duration": 5,
    "start_time": "2024-07-05T23:55:35.706Z"
   },
   {
    "duration": 4,
    "start_time": "2024-07-05T23:55:35.715Z"
   },
   {
    "duration": 8223,
    "start_time": "2024-07-05T23:55:35.723Z"
   },
   {
    "duration": 7,
    "start_time": "2024-07-05T23:55:43.952Z"
   },
   {
    "duration": 8,
    "start_time": "2024-07-05T23:55:43.963Z"
   },
   {
    "duration": 67,
    "start_time": "2024-07-05T23:55:43.975Z"
   },
   {
    "duration": 72,
    "start_time": "2024-07-05T23:55:44.046Z"
   },
   {
    "duration": 10,
    "start_time": "2024-07-05T23:55:44.125Z"
   },
   {
    "duration": 7,
    "start_time": "2024-07-05T23:55:44.138Z"
   },
   {
    "duration": 820,
    "start_time": "2024-07-05T23:55:44.149Z"
   },
   {
    "duration": 0,
    "start_time": "2024-07-05T23:55:44.973Z"
   },
   {
    "duration": 0,
    "start_time": "2024-07-05T23:55:44.975Z"
   },
   {
    "duration": 0,
    "start_time": "2024-07-05T23:55:44.977Z"
   },
   {
    "duration": 0,
    "start_time": "2024-07-05T23:55:44.980Z"
   },
   {
    "duration": 0,
    "start_time": "2024-07-05T23:55:44.982Z"
   },
   {
    "duration": 0,
    "start_time": "2024-07-05T23:55:44.984Z"
   },
   {
    "duration": 0,
    "start_time": "2024-07-05T23:55:45.003Z"
   },
   {
    "duration": 0,
    "start_time": "2024-07-05T23:55:45.005Z"
   },
   {
    "duration": 0,
    "start_time": "2024-07-05T23:55:45.007Z"
   },
   {
    "duration": 0,
    "start_time": "2024-07-05T23:55:45.009Z"
   },
   {
    "duration": 0,
    "start_time": "2024-07-05T23:55:45.012Z"
   },
   {
    "duration": 0,
    "start_time": "2024-07-05T23:55:45.014Z"
   },
   {
    "duration": 0,
    "start_time": "2024-07-05T23:55:45.017Z"
   },
   {
    "duration": 0,
    "start_time": "2024-07-05T23:55:45.018Z"
   },
   {
    "duration": 0,
    "start_time": "2024-07-05T23:55:45.021Z"
   },
   {
    "duration": 0,
    "start_time": "2024-07-05T23:55:45.023Z"
   },
   {
    "duration": 0,
    "start_time": "2024-07-05T23:55:45.026Z"
   },
   {
    "duration": 0,
    "start_time": "2024-07-05T23:55:45.028Z"
   },
   {
    "duration": 0,
    "start_time": "2024-07-05T23:55:45.030Z"
   },
   {
    "duration": 0,
    "start_time": "2024-07-05T23:55:45.032Z"
   },
   {
    "duration": 0,
    "start_time": "2024-07-05T23:55:45.034Z"
   },
   {
    "duration": 0,
    "start_time": "2024-07-05T23:55:45.038Z"
   },
   {
    "duration": 0,
    "start_time": "2024-07-05T23:55:45.039Z"
   },
   {
    "duration": 0,
    "start_time": "2024-07-05T23:55:45.042Z"
   },
   {
    "duration": 0,
    "start_time": "2024-07-05T23:55:45.101Z"
   },
   {
    "duration": 1070,
    "start_time": "2024-07-06T00:02:12.431Z"
   },
   {
    "duration": 338,
    "start_time": "2024-07-06T00:07:07.813Z"
   },
   {
    "duration": 14103,
    "start_time": "2024-07-06T00:13:35.805Z"
   },
   {
    "duration": 1207,
    "start_time": "2024-07-06T00:13:49.915Z"
   },
   {
    "duration": 894,
    "start_time": "2024-07-06T00:14:06.354Z"
   },
   {
    "duration": 5,
    "start_time": "2024-07-06T00:16:21.371Z"
   },
   {
    "duration": 4806,
    "start_time": "2024-07-06T00:21:01.434Z"
   },
   {
    "duration": 13,
    "start_time": "2024-07-06T00:21:06.244Z"
   },
   {
    "duration": 5,
    "start_time": "2024-07-06T00:21:06.259Z"
   },
   {
    "duration": 1041,
    "start_time": "2024-07-06T00:21:06.267Z"
   },
   {
    "duration": 34,
    "start_time": "2024-07-06T00:21:07.314Z"
   },
   {
    "duration": 56,
    "start_time": "2024-07-06T00:21:07.351Z"
   },
   {
    "duration": 271,
    "start_time": "2024-07-06T00:21:07.411Z"
   },
   {
    "duration": 5492,
    "start_time": "2024-07-06T00:21:07.686Z"
   },
   {
    "duration": 1074,
    "start_time": "2024-07-06T00:21:13.181Z"
   },
   {
    "duration": 9,
    "start_time": "2024-07-06T00:21:14.259Z"
   },
   {
    "duration": 554,
    "start_time": "2024-07-06T00:21:14.271Z"
   },
   {
    "duration": 6820,
    "start_time": "2024-07-06T00:21:14.829Z"
   },
   {
    "duration": 85,
    "start_time": "2024-07-06T00:21:21.652Z"
   },
   {
    "duration": 4,
    "start_time": "2024-07-06T00:21:21.745Z"
   },
   {
    "duration": 4,
    "start_time": "2024-07-06T00:21:21.753Z"
   },
   {
    "duration": 4,
    "start_time": "2024-07-06T00:21:21.760Z"
   },
   {
    "duration": 36,
    "start_time": "2024-07-06T00:21:21.768Z"
   },
   {
    "duration": 4,
    "start_time": "2024-07-06T00:21:21.808Z"
   },
   {
    "duration": 8138,
    "start_time": "2024-07-06T00:21:21.816Z"
   },
   {
    "duration": 7,
    "start_time": "2024-07-06T00:21:29.957Z"
   },
   {
    "duration": 9,
    "start_time": "2024-07-06T00:21:29.967Z"
   },
   {
    "duration": 55,
    "start_time": "2024-07-06T00:21:30.003Z"
   },
   {
    "duration": 73,
    "start_time": "2024-07-06T00:21:30.061Z"
   },
   {
    "duration": 10,
    "start_time": "2024-07-06T00:21:30.138Z"
   },
   {
    "duration": 12,
    "start_time": "2024-07-06T00:21:30.159Z"
   },
   {
    "duration": 1061,
    "start_time": "2024-07-06T00:21:30.174Z"
   },
   {
    "duration": 247,
    "start_time": "2024-07-06T00:21:31.239Z"
   },
   {
    "duration": 16135,
    "start_time": "2024-07-06T00:21:31.489Z"
   },
   {
    "duration": 1285,
    "start_time": "2024-07-06T00:21:47.629Z"
   },
   {
    "duration": 762,
    "start_time": "2024-07-06T00:21:48.917Z"
   },
   {
    "duration": 10,
    "start_time": "2024-07-06T00:21:49.683Z"
   },
   {
    "duration": 1280047,
    "start_time": "2024-07-06T00:21:49.702Z"
   },
   {
    "duration": 9154,
    "start_time": "2024-07-06T00:43:09.857Z"
   },
   {
    "duration": 4909,
    "start_time": "2024-07-06T00:43:19.014Z"
   },
   {
    "duration": 1332,
    "start_time": "2024-07-06T00:43:24.006Z"
   },
   {
    "duration": 34,
    "start_time": "2024-07-06T00:43:25.342Z"
   },
   {
    "duration": 242,
    "start_time": "2024-07-06T00:44:25.113Z"
   },
   {
    "duration": 3213,
    "start_time": "2024-07-06T00:44:25.357Z"
   },
   {
    "duration": 11,
    "start_time": "2024-07-06T00:44:28.573Z"
   },
   {
    "duration": 0,
    "start_time": "2024-07-06T00:47:09.250Z"
   },
   {
    "duration": 0,
    "start_time": "2024-07-06T00:47:09.251Z"
   },
   {
    "duration": 0,
    "start_time": "2024-07-06T00:47:09.254Z"
   },
   {
    "duration": 0,
    "start_time": "2024-07-06T00:47:09.256Z"
   },
   {
    "duration": 0,
    "start_time": "2024-07-06T00:47:09.258Z"
   },
   {
    "duration": 0,
    "start_time": "2024-07-06T00:47:09.260Z"
   },
   {
    "duration": 0,
    "start_time": "2024-07-06T00:47:09.261Z"
   },
   {
    "duration": 0,
    "start_time": "2024-07-06T00:47:09.263Z"
   },
   {
    "duration": 0,
    "start_time": "2024-07-06T00:47:09.266Z"
   },
   {
    "duration": 0,
    "start_time": "2024-07-06T00:47:09.268Z"
   },
   {
    "duration": 0,
    "start_time": "2024-07-06T00:47:09.270Z"
   },
   {
    "duration": 0,
    "start_time": "2024-07-06T00:47:09.303Z"
   },
   {
    "duration": 0,
    "start_time": "2024-07-06T00:47:09.305Z"
   },
   {
    "duration": 0,
    "start_time": "2024-07-06T00:47:09.307Z"
   },
   {
    "duration": 0,
    "start_time": "2024-07-06T00:47:09.310Z"
   },
   {
    "duration": 4666,
    "start_time": "2024-07-06T00:57:42.323Z"
   },
   {
    "duration": 17,
    "start_time": "2024-07-06T00:57:46.993Z"
   },
   {
    "duration": 4,
    "start_time": "2024-07-06T00:57:47.014Z"
   },
   {
    "duration": 1014,
    "start_time": "2024-07-06T00:57:47.022Z"
   },
   {
    "duration": 25,
    "start_time": "2024-07-06T00:57:48.039Z"
   },
   {
    "duration": 59,
    "start_time": "2024-07-06T00:57:48.068Z"
   },
   {
    "duration": 254,
    "start_time": "2024-07-06T00:57:48.130Z"
   },
   {
    "duration": 5232,
    "start_time": "2024-07-06T00:57:48.387Z"
   },
   {
    "duration": 1009,
    "start_time": "2024-07-06T00:57:53.622Z"
   },
   {
    "duration": 9,
    "start_time": "2024-07-06T00:57:54.637Z"
   },
   {
    "duration": 559,
    "start_time": "2024-07-06T00:57:54.648Z"
   },
   {
    "duration": 6670,
    "start_time": "2024-07-06T00:57:55.210Z"
   },
   {
    "duration": 76,
    "start_time": "2024-07-06T00:58:01.884Z"
   },
   {
    "duration": 5,
    "start_time": "2024-07-06T00:58:01.963Z"
   },
   {
    "duration": 4,
    "start_time": "2024-07-06T00:58:01.972Z"
   },
   {
    "duration": 26,
    "start_time": "2024-07-06T00:58:01.978Z"
   },
   {
    "duration": 4,
    "start_time": "2024-07-06T00:58:02.007Z"
   },
   {
    "duration": 4,
    "start_time": "2024-07-06T00:58:02.014Z"
   },
   {
    "duration": 8761,
    "start_time": "2024-07-06T00:58:02.021Z"
   },
   {
    "duration": 6,
    "start_time": "2024-07-06T00:58:10.785Z"
   },
   {
    "duration": 7,
    "start_time": "2024-07-06T00:58:10.802Z"
   },
   {
    "duration": 44,
    "start_time": "2024-07-06T00:58:10.812Z"
   },
   {
    "duration": 77,
    "start_time": "2024-07-06T00:58:10.859Z"
   },
   {
    "duration": 7,
    "start_time": "2024-07-06T00:58:10.940Z"
   },
   {
    "duration": 8,
    "start_time": "2024-07-06T00:58:10.954Z"
   },
   {
    "duration": 1020,
    "start_time": "2024-07-06T00:58:10.965Z"
   },
   {
    "duration": 257,
    "start_time": "2024-07-06T00:58:11.988Z"
   },
   {
    "duration": 12775,
    "start_time": "2024-07-06T00:58:12.253Z"
   },
   {
    "duration": 1395,
    "start_time": "2024-07-06T00:58:25.103Z"
   },
   {
    "duration": 757,
    "start_time": "2024-07-06T00:58:26.501Z"
   },
   {
    "duration": 4,
    "start_time": "2024-07-06T00:58:27.262Z"
   },
   {
    "duration": 4570,
    "start_time": "2024-07-06T01:16:40.875Z"
   },
   {
    "duration": 11,
    "start_time": "2024-07-06T01:16:45.449Z"
   },
   {
    "duration": 4,
    "start_time": "2024-07-06T01:16:45.463Z"
   },
   {
    "duration": 1034,
    "start_time": "2024-07-06T01:16:45.472Z"
   },
   {
    "duration": 26,
    "start_time": "2024-07-06T01:16:46.509Z"
   },
   {
    "duration": 38,
    "start_time": "2024-07-06T01:16:46.538Z"
   },
   {
    "duration": 244,
    "start_time": "2024-07-06T01:16:46.602Z"
   },
   {
    "duration": 5197,
    "start_time": "2024-07-06T01:16:46.849Z"
   },
   {
    "duration": 1078,
    "start_time": "2024-07-06T01:16:52.050Z"
   },
   {
    "duration": 7,
    "start_time": "2024-07-06T01:16:53.134Z"
   },
   {
    "duration": 547,
    "start_time": "2024-07-06T01:16:53.144Z"
   },
   {
    "duration": 6723,
    "start_time": "2024-07-06T01:16:53.695Z"
   },
   {
    "duration": 84,
    "start_time": "2024-07-06T01:17:00.421Z"
   },
   {
    "duration": 6,
    "start_time": "2024-07-06T01:17:00.509Z"
   },
   {
    "duration": 5,
    "start_time": "2024-07-06T01:17:00.518Z"
   },
   {
    "duration": 4,
    "start_time": "2024-07-06T01:17:00.528Z"
   },
   {
    "duration": 7,
    "start_time": "2024-07-06T01:17:00.536Z"
   },
   {
    "duration": 4,
    "start_time": "2024-07-06T01:17:00.547Z"
   },
   {
    "duration": 8117,
    "start_time": "2024-07-06T01:17:00.555Z"
   },
   {
    "duration": 6,
    "start_time": "2024-07-06T01:17:08.676Z"
   },
   {
    "duration": 6,
    "start_time": "2024-07-06T01:17:08.701Z"
   },
   {
    "duration": 45,
    "start_time": "2024-07-06T01:17:08.710Z"
   },
   {
    "duration": 74,
    "start_time": "2024-07-06T01:17:08.758Z"
   },
   {
    "duration": 7,
    "start_time": "2024-07-06T01:17:08.837Z"
   },
   {
    "duration": 9,
    "start_time": "2024-07-06T01:17:08.846Z"
   },
   {
    "duration": 1034,
    "start_time": "2024-07-06T01:17:08.858Z"
   },
   {
    "duration": 231,
    "start_time": "2024-07-06T01:17:09.902Z"
   },
   {
    "duration": 13281,
    "start_time": "2024-07-06T01:17:10.142Z"
   },
   {
    "duration": 1227,
    "start_time": "2024-07-06T01:17:23.426Z"
   },
   {
    "duration": 702,
    "start_time": "2024-07-06T01:17:24.657Z"
   },
   {
    "duration": 5,
    "start_time": "2024-07-06T01:17:25.362Z"
   },
   {
    "duration": 1180695,
    "start_time": "2024-07-06T01:17:25.370Z"
   },
   {
    "duration": 3,
    "start_time": "2024-07-06T01:37:06.069Z"
   },
   {
    "duration": 3,
    "start_time": "2024-07-06T01:37:06.075Z"
   },
   {
    "duration": 5,
    "start_time": "2024-07-06T01:37:06.102Z"
   },
   {
    "duration": 1891,
    "start_time": "2024-07-06T01:37:06.112Z"
   },
   {
    "duration": 0,
    "start_time": "2024-07-06T01:37:08.006Z"
   },
   {
    "duration": 0,
    "start_time": "2024-07-06T01:37:08.008Z"
   },
   {
    "duration": 0,
    "start_time": "2024-07-06T01:37:08.009Z"
   },
   {
    "duration": 0,
    "start_time": "2024-07-06T01:37:08.011Z"
   },
   {
    "duration": 0,
    "start_time": "2024-07-06T01:37:08.013Z"
   },
   {
    "duration": 0,
    "start_time": "2024-07-06T01:37:08.016Z"
   },
   {
    "duration": 0,
    "start_time": "2024-07-06T01:37:08.017Z"
   },
   {
    "duration": 0,
    "start_time": "2024-07-06T01:37:08.019Z"
   },
   {
    "duration": 0,
    "start_time": "2024-07-06T01:37:08.021Z"
   },
   {
    "duration": 0,
    "start_time": "2024-07-06T01:37:08.023Z"
   },
   {
    "duration": 0,
    "start_time": "2024-07-06T01:37:08.025Z"
   },
   {
    "duration": 0,
    "start_time": "2024-07-06T01:37:08.029Z"
   },
   {
    "duration": 0,
    "start_time": "2024-07-06T01:37:08.031Z"
   },
   {
    "duration": 0,
    "start_time": "2024-07-06T01:37:08.032Z"
   },
   {
    "duration": 0,
    "start_time": "2024-07-06T01:37:08.034Z"
   },
   {
    "duration": 0,
    "start_time": "2024-07-06T01:37:08.037Z"
   },
   {
    "duration": 0,
    "start_time": "2024-07-06T01:37:08.038Z"
   },
   {
    "duration": 17,
    "start_time": "2024-07-06T01:37:16.332Z"
   },
   {
    "duration": 34,
    "start_time": "2024-07-06T01:39:42.886Z"
   },
   {
    "duration": 14296,
    "start_time": "2024-07-06T01:40:50.931Z"
   },
   {
    "duration": 1229,
    "start_time": "2024-07-06T01:41:05.230Z"
   },
   {
    "duration": 36,
    "start_time": "2024-07-06T01:41:29.287Z"
   },
   {
    "duration": 10,
    "start_time": "2024-07-06T01:44:15.628Z"
   },
   {
    "duration": 13384,
    "start_time": "2024-07-06T01:44:23.523Z"
   },
   {
    "duration": 8,
    "start_time": "2024-07-06T01:44:48.128Z"
   },
   {
    "duration": 664,
    "start_time": "2024-07-06T01:48:17.915Z"
   },
   {
    "duration": 4,
    "start_time": "2024-07-06T01:48:22.400Z"
   },
   {
    "duration": 1192881,
    "start_time": "2024-07-06T01:48:59.164Z"
   },
   {
    "duration": 0,
    "start_time": "2024-07-06T02:08:52.060Z"
   },
   {
    "duration": 0,
    "start_time": "2024-07-06T02:08:52.062Z"
   },
   {
    "duration": 0,
    "start_time": "2024-07-06T02:08:52.064Z"
   },
   {
    "duration": 0,
    "start_time": "2024-07-06T02:08:52.066Z"
   },
   {
    "duration": 0,
    "start_time": "2024-07-06T02:08:52.068Z"
   },
   {
    "duration": 0,
    "start_time": "2024-07-06T02:08:52.071Z"
   },
   {
    "duration": 0,
    "start_time": "2024-07-06T02:08:52.103Z"
   },
   {
    "duration": 35,
    "start_time": "2024-07-06T02:09:10.475Z"
   },
   {
    "duration": 248,
    "start_time": "2024-07-06T02:09:18.987Z"
   },
   {
    "duration": 3136,
    "start_time": "2024-07-06T02:09:19.845Z"
   },
   {
    "duration": 17,
    "start_time": "2024-07-06T02:09:22.984Z"
   },
   {
    "duration": 244,
    "start_time": "2024-07-06T02:09:24.635Z"
   },
   {
    "duration": 36,
    "start_time": "2024-07-06T02:09:25.222Z"
   },
   {
    "duration": 0,
    "start_time": "2024-07-06T02:12:28.747Z"
   },
   {
    "duration": 0,
    "start_time": "2024-07-06T02:12:28.750Z"
   },
   {
    "duration": 0,
    "start_time": "2024-07-06T02:12:28.752Z"
   },
   {
    "duration": 38,
    "start_time": "2024-07-06T02:13:13.737Z"
   },
   {
    "duration": 159143,
    "start_time": "2024-07-06T02:13:25.321Z"
   },
   {
    "duration": 0,
    "start_time": "2024-07-06T02:16:04.469Z"
   },
   {
    "duration": 181,
    "start_time": "2024-07-06T02:17:25.087Z"
   },
   {
    "duration": 36,
    "start_time": "2024-07-06T02:22:50.007Z"
   },
   {
    "duration": 7,
    "start_time": "2024-07-06T02:23:01.754Z"
   },
   {
    "duration": 7,
    "start_time": "2024-07-06T02:23:41.483Z"
   },
   {
    "duration": 7,
    "start_time": "2024-07-06T02:23:47.120Z"
   },
   {
    "duration": 6,
    "start_time": "2024-07-06T02:26:37.086Z"
   },
   {
    "duration": 407,
    "start_time": "2024-07-06T02:28:34.615Z"
   },
   {
    "duration": 4677,
    "start_time": "2024-07-06T02:29:27.632Z"
   },
   {
    "duration": 11,
    "start_time": "2024-07-06T02:29:32.313Z"
   },
   {
    "duration": 5,
    "start_time": "2024-07-06T02:29:32.327Z"
   },
   {
    "duration": 1068,
    "start_time": "2024-07-06T02:29:32.335Z"
   },
   {
    "duration": 25,
    "start_time": "2024-07-06T02:29:33.407Z"
   },
   {
    "duration": 39,
    "start_time": "2024-07-06T02:29:33.435Z"
   },
   {
    "duration": 266,
    "start_time": "2024-07-06T02:29:33.476Z"
   },
   {
    "duration": 5280,
    "start_time": "2024-07-06T02:29:33.746Z"
   },
   {
    "duration": 1072,
    "start_time": "2024-07-06T02:29:39.030Z"
   },
   {
    "duration": 10,
    "start_time": "2024-07-06T02:29:40.104Z"
   },
   {
    "duration": 538,
    "start_time": "2024-07-06T02:29:40.117Z"
   },
   {
    "duration": 6799,
    "start_time": "2024-07-06T02:29:40.658Z"
   },
   {
    "duration": 79,
    "start_time": "2024-07-06T02:29:47.461Z"
   },
   {
    "duration": 5,
    "start_time": "2024-07-06T02:29:47.548Z"
   },
   {
    "duration": 7937,
    "start_time": "2024-07-06T02:29:47.556Z"
   },
   {
    "duration": 10,
    "start_time": "2024-07-06T02:29:55.496Z"
   },
   {
    "duration": 6,
    "start_time": "2024-07-06T02:29:55.510Z"
   },
   {
    "duration": 8,
    "start_time": "2024-07-06T02:29:55.519Z"
   },
   {
    "duration": 88,
    "start_time": "2024-07-06T02:29:55.530Z"
   },
   {
    "duration": 6,
    "start_time": "2024-07-06T02:29:55.621Z"
   },
   {
    "duration": 6,
    "start_time": "2024-07-06T02:29:55.630Z"
   },
   {
    "duration": 6,
    "start_time": "2024-07-06T02:29:55.640Z"
   },
   {
    "duration": 52,
    "start_time": "2024-07-06T02:29:55.649Z"
   },
   {
    "duration": 1049,
    "start_time": "2024-07-06T02:29:55.705Z"
   },
   {
    "duration": 247,
    "start_time": "2024-07-06T02:29:56.757Z"
   },
   {
    "duration": 14210,
    "start_time": "2024-07-06T02:29:57.007Z"
   },
   {
    "duration": 1243,
    "start_time": "2024-07-06T02:30:11.220Z"
   },
   {
    "duration": 713,
    "start_time": "2024-07-06T02:30:12.465Z"
   },
   {
    "duration": 5,
    "start_time": "2024-07-06T02:30:13.181Z"
   },
   {
    "duration": 4533,
    "start_time": "2024-07-06T02:38:46.892Z"
   },
   {
    "duration": 13,
    "start_time": "2024-07-06T02:38:51.431Z"
   },
   {
    "duration": 4,
    "start_time": "2024-07-06T02:38:51.448Z"
   },
   {
    "duration": 984,
    "start_time": "2024-07-06T02:38:51.456Z"
   },
   {
    "duration": 26,
    "start_time": "2024-07-06T02:38:52.444Z"
   },
   {
    "duration": 70,
    "start_time": "2024-07-06T02:38:52.472Z"
   },
   {
    "duration": 248,
    "start_time": "2024-07-06T02:38:52.548Z"
   },
   {
    "duration": 5288,
    "start_time": "2024-07-06T02:38:52.802Z"
   },
   {
    "duration": 1094,
    "start_time": "2024-07-06T02:38:58.094Z"
   },
   {
    "duration": 14,
    "start_time": "2024-07-06T02:38:59.191Z"
   },
   {
    "duration": 564,
    "start_time": "2024-07-06T02:38:59.208Z"
   },
   {
    "duration": 6650,
    "start_time": "2024-07-06T02:38:59.775Z"
   },
   {
    "duration": 85,
    "start_time": "2024-07-06T02:39:06.428Z"
   },
   {
    "duration": 4,
    "start_time": "2024-07-06T02:39:06.520Z"
   },
   {
    "duration": 7995,
    "start_time": "2024-07-06T02:39:06.527Z"
   },
   {
    "duration": 7,
    "start_time": "2024-07-06T02:39:14.525Z"
   },
   {
    "duration": 71,
    "start_time": "2024-07-06T02:39:14.535Z"
   },
   {
    "duration": 6,
    "start_time": "2024-07-06T02:39:14.609Z"
   },
   {
    "duration": 6,
    "start_time": "2024-07-06T02:39:14.619Z"
   },
   {
    "duration": 6,
    "start_time": "2024-07-06T02:39:14.628Z"
   },
   {
    "duration": 8,
    "start_time": "2024-07-06T02:39:14.637Z"
   },
   {
    "duration": 1035,
    "start_time": "2024-07-06T02:39:14.648Z"
   },
   {
    "duration": 233,
    "start_time": "2024-07-06T02:39:15.686Z"
   },
   {
    "duration": 13901,
    "start_time": "2024-07-06T02:39:15.922Z"
   },
   {
    "duration": 1253,
    "start_time": "2024-07-06T02:39:29.826Z"
   },
   {
    "duration": 691,
    "start_time": "2024-07-06T02:39:31.083Z"
   },
   {
    "duration": 5,
    "start_time": "2024-07-06T02:39:31.776Z"
   },
   {
    "duration": 4582,
    "start_time": "2024-07-06T02:50:44.590Z"
   },
   {
    "duration": 26,
    "start_time": "2024-07-06T02:50:49.175Z"
   },
   {
    "duration": 5,
    "start_time": "2024-07-06T02:50:49.205Z"
   },
   {
    "duration": 989,
    "start_time": "2024-07-06T02:50:49.213Z"
   },
   {
    "duration": 26,
    "start_time": "2024-07-06T02:50:50.206Z"
   },
   {
    "duration": 40,
    "start_time": "2024-07-06T02:50:50.234Z"
   },
   {
    "duration": 246,
    "start_time": "2024-07-06T02:50:50.302Z"
   },
   {
    "duration": 5178,
    "start_time": "2024-07-06T02:50:50.552Z"
   },
   {
    "duration": 1106,
    "start_time": "2024-07-06T02:50:55.733Z"
   },
   {
    "duration": 9,
    "start_time": "2024-07-06T02:50:56.842Z"
   },
   {
    "duration": 555,
    "start_time": "2024-07-06T02:50:56.854Z"
   },
   {
    "duration": 6567,
    "start_time": "2024-07-06T02:50:57.412Z"
   },
   {
    "duration": 73,
    "start_time": "2024-07-06T02:51:03.982Z"
   },
   {
    "duration": 4,
    "start_time": "2024-07-06T02:51:04.062Z"
   },
   {
    "duration": 7898,
    "start_time": "2024-07-06T02:51:04.069Z"
   },
   {
    "duration": 6,
    "start_time": "2024-07-06T02:51:11.971Z"
   },
   {
    "duration": 64,
    "start_time": "2024-07-06T02:51:11.980Z"
   },
   {
    "duration": 6,
    "start_time": "2024-07-06T02:51:12.047Z"
   },
   {
    "duration": 7,
    "start_time": "2024-07-06T02:51:12.056Z"
   },
   {
    "duration": 36,
    "start_time": "2024-07-06T02:51:12.066Z"
   },
   {
    "duration": 8,
    "start_time": "2024-07-06T02:51:12.105Z"
   },
   {
    "duration": 1098,
    "start_time": "2024-07-06T02:51:12.116Z"
   },
   {
    "duration": 231,
    "start_time": "2024-07-06T02:51:13.217Z"
   },
   {
    "duration": 15051,
    "start_time": "2024-07-06T02:51:13.452Z"
   },
   {
    "duration": 1171,
    "start_time": "2024-07-06T02:51:28.505Z"
   },
   {
    "duration": 709,
    "start_time": "2024-07-06T02:51:29.679Z"
   },
   {
    "duration": 11,
    "start_time": "2024-07-06T02:51:30.391Z"
   },
   {
    "duration": 8348,
    "start_time": "2024-07-06T19:28:38.372Z"
   },
   {
    "duration": 11,
    "start_time": "2024-07-06T19:28:46.724Z"
   },
   {
    "duration": 5,
    "start_time": "2024-07-06T19:28:46.738Z"
   },
   {
    "duration": 1085,
    "start_time": "2024-07-06T19:28:46.747Z"
   },
   {
    "duration": 28,
    "start_time": "2024-07-06T19:28:47.834Z"
   },
   {
    "duration": 60,
    "start_time": "2024-07-06T19:28:47.865Z"
   },
   {
    "duration": 247,
    "start_time": "2024-07-06T19:28:47.928Z"
   },
   {
    "duration": 5172,
    "start_time": "2024-07-06T19:28:55.177Z"
   },
   {
    "duration": 1251,
    "start_time": "2024-07-06T19:29:00.420Z"
   },
   {
    "duration": 8,
    "start_time": "2024-07-06T19:29:11.757Z"
   },
   {
    "duration": 512,
    "start_time": "2024-07-06T19:29:12.515Z"
   },
   {
    "duration": 6457,
    "start_time": "2024-07-06T19:29:15.012Z"
   },
   {
    "duration": 272,
    "start_time": "2024-07-06T19:29:49.040Z"
   },
   {
    "duration": 5,
    "start_time": "2024-07-06T19:29:53.850Z"
   },
   {
    "duration": 7878,
    "start_time": "2024-07-06T19:30:00.566Z"
   },
   {
    "duration": 7,
    "start_time": "2024-07-06T19:30:08.447Z"
   },
   {
    "duration": 49,
    "start_time": "2024-07-06T19:30:25.564Z"
   },
   {
    "duration": 6,
    "start_time": "2024-07-06T19:32:23.034Z"
   },
   {
    "duration": 5,
    "start_time": "2024-07-06T19:32:52.429Z"
   },
   {
    "duration": 5,
    "start_time": "2024-07-06T19:32:58.492Z"
   },
   {
    "duration": 9,
    "start_time": "2024-07-06T19:34:10.998Z"
   },
   {
    "duration": 9,
    "start_time": "2024-07-06T19:34:35.299Z"
   },
   {
    "duration": 588,
    "start_time": "2024-07-06T19:34:59.631Z"
   },
   {
    "duration": 10,
    "start_time": "2024-07-06T19:35:13.979Z"
   },
   {
    "duration": 8,
    "start_time": "2024-07-06T19:35:31.618Z"
   },
   {
    "duration": 113,
    "start_time": "2024-07-06T19:35:47.362Z"
   },
   {
    "duration": 809,
    "start_time": "2024-07-06T19:36:05.637Z"
   },
   {
    "duration": 972,
    "start_time": "2024-07-06T19:38:19.550Z"
   },
   {
    "duration": 253,
    "start_time": "2024-07-06T19:38:35.224Z"
   },
   {
    "duration": 12426,
    "start_time": "2024-07-06T19:41:23.908Z"
   },
   {
    "duration": 70,
    "start_time": "2024-07-06T19:43:00.949Z"
   },
   {
    "duration": 1101,
    "start_time": "2024-07-06T19:43:12.131Z"
   },
   {
    "duration": 697,
    "start_time": "2024-07-06T19:43:20.692Z"
   },
   {
    "duration": 6,
    "start_time": "2024-07-06T19:43:28.160Z"
   },
   {
    "duration": 6,
    "start_time": "2024-07-06T20:03:38.583Z"
   },
   {
    "duration": 4497,
    "start_time": "2024-07-06T20:21:54.546Z"
   },
   {
    "duration": 12,
    "start_time": "2024-07-06T20:21:59.047Z"
   },
   {
    "duration": 4,
    "start_time": "2024-07-06T20:21:59.063Z"
   },
   {
    "duration": 990,
    "start_time": "2024-07-06T20:21:59.071Z"
   },
   {
    "duration": 26,
    "start_time": "2024-07-06T20:22:00.063Z"
   },
   {
    "duration": 58,
    "start_time": "2024-07-06T20:22:00.092Z"
   },
   {
    "duration": 251,
    "start_time": "2024-07-06T20:22:00.155Z"
   },
   {
    "duration": 5244,
    "start_time": "2024-07-06T20:22:00.413Z"
   },
   {
    "duration": 1091,
    "start_time": "2024-07-06T20:22:05.660Z"
   },
   {
    "duration": 9,
    "start_time": "2024-07-06T20:22:06.757Z"
   },
   {
    "duration": 539,
    "start_time": "2024-07-06T20:22:06.769Z"
   },
   {
    "duration": 6697,
    "start_time": "2024-07-06T20:22:07.311Z"
   },
   {
    "duration": 67,
    "start_time": "2024-07-06T20:22:14.016Z"
   },
   {
    "duration": 6,
    "start_time": "2024-07-06T20:22:14.086Z"
   },
   {
    "duration": 7940,
    "start_time": "2024-07-06T20:22:14.114Z"
   },
   {
    "duration": 8,
    "start_time": "2024-07-06T20:22:22.057Z"
   },
   {
    "duration": 74,
    "start_time": "2024-07-06T20:22:22.069Z"
   },
   {
    "duration": 6,
    "start_time": "2024-07-06T20:22:22.146Z"
   },
   {
    "duration": 7,
    "start_time": "2024-07-06T20:22:22.155Z"
   },
   {
    "duration": 6,
    "start_time": "2024-07-06T20:22:22.165Z"
   },
   {
    "duration": 45,
    "start_time": "2024-07-06T20:22:22.173Z"
   },
   {
    "duration": 1019,
    "start_time": "2024-07-06T20:22:22.221Z"
   },
   {
    "duration": 238,
    "start_time": "2024-07-06T20:22:23.243Z"
   },
   {
    "duration": 13042,
    "start_time": "2024-07-06T20:22:23.485Z"
   },
   {
    "duration": 1258,
    "start_time": "2024-07-06T20:22:36.530Z"
   },
   {
    "duration": 705,
    "start_time": "2024-07-06T20:22:37.791Z"
   },
   {
    "duration": 13,
    "start_time": "2024-07-06T20:22:38.499Z"
   },
   {
    "duration": 322,
    "start_time": "2024-07-06T21:38:06.106Z"
   },
   {
    "duration": 8898,
    "start_time": "2024-07-06T21:38:21.739Z"
   },
   {
    "duration": 11,
    "start_time": "2024-07-06T21:38:30.640Z"
   },
   {
    "duration": 7,
    "start_time": "2024-07-06T21:38:30.654Z"
   },
   {
    "duration": 1117,
    "start_time": "2024-07-06T21:38:30.663Z"
   },
   {
    "duration": 39,
    "start_time": "2024-07-06T21:38:31.786Z"
   },
   {
    "duration": 54,
    "start_time": "2024-07-06T21:38:31.829Z"
   },
   {
    "duration": 293,
    "start_time": "2024-07-06T21:38:31.887Z"
   },
   {
    "duration": 5311,
    "start_time": "2024-07-06T21:38:32.184Z"
   },
   {
    "duration": 1044,
    "start_time": "2024-07-06T21:38:37.499Z"
   },
   {
    "duration": 9,
    "start_time": "2024-07-06T21:38:38.546Z"
   },
   {
    "duration": 561,
    "start_time": "2024-07-06T21:38:38.557Z"
   },
   {
    "duration": 6737,
    "start_time": "2024-07-06T21:38:39.123Z"
   },
   {
    "duration": 85,
    "start_time": "2024-07-06T21:38:45.864Z"
   },
   {
    "duration": 4,
    "start_time": "2024-07-06T21:38:45.956Z"
   },
   {
    "duration": 8024,
    "start_time": "2024-07-06T21:38:45.963Z"
   },
   {
    "duration": 7,
    "start_time": "2024-07-06T21:38:53.990Z"
   },
   {
    "duration": 66,
    "start_time": "2024-07-06T21:38:54.000Z"
   },
   {
    "duration": 7,
    "start_time": "2024-07-06T21:38:54.068Z"
   },
   {
    "duration": 6,
    "start_time": "2024-07-06T21:38:54.078Z"
   },
   {
    "duration": 5,
    "start_time": "2024-07-06T21:38:54.122Z"
   },
   {
    "duration": 8,
    "start_time": "2024-07-06T21:38:54.131Z"
   },
   {
    "duration": 1196,
    "start_time": "2024-07-06T21:38:54.142Z"
   },
   {
    "duration": 279,
    "start_time": "2024-07-06T21:38:55.341Z"
   },
   {
    "duration": 12102,
    "start_time": "2024-07-06T21:38:55.623Z"
   },
   {
    "duration": 1165,
    "start_time": "2024-07-06T21:39:07.727Z"
   },
   {
    "duration": 701,
    "start_time": "2024-07-06T21:39:08.895Z"
   },
   {
    "duration": 5,
    "start_time": "2024-07-06T21:39:09.599Z"
   },
   {
    "duration": 1227074,
    "start_time": "2024-07-06T21:39:09.623Z"
   },
   {
    "duration": 6,
    "start_time": "2024-07-06T21:59:36.701Z"
   },
   {
    "duration": 20,
    "start_time": "2024-07-06T21:59:36.709Z"
   },
   {
    "duration": 7,
    "start_time": "2024-07-06T21:59:36.733Z"
   },
   {
    "duration": 4,
    "start_time": "2024-07-06T21:59:36.743Z"
   },
   {
    "duration": 1886,
    "start_time": "2024-07-06T21:59:36.750Z"
   },
   {
    "duration": 0,
    "start_time": "2024-07-06T21:59:38.640Z"
   },
   {
    "duration": 0,
    "start_time": "2024-07-06T21:59:38.643Z"
   },
   {
    "duration": 0,
    "start_time": "2024-07-06T21:59:38.646Z"
   },
   {
    "duration": 0,
    "start_time": "2024-07-06T21:59:38.648Z"
   },
   {
    "duration": 0,
    "start_time": "2024-07-06T21:59:38.651Z"
   },
   {
    "duration": 0,
    "start_time": "2024-07-06T21:59:38.654Z"
   },
   {
    "duration": 0,
    "start_time": "2024-07-06T21:59:38.656Z"
   },
   {
    "duration": 0,
    "start_time": "2024-07-06T21:59:38.659Z"
   },
   {
    "duration": 0,
    "start_time": "2024-07-06T21:59:38.662Z"
   },
   {
    "duration": 0,
    "start_time": "2024-07-06T21:59:38.664Z"
   },
   {
    "duration": 0,
    "start_time": "2024-07-06T21:59:38.666Z"
   },
   {
    "duration": 0,
    "start_time": "2024-07-06T21:59:38.668Z"
   },
   {
    "duration": 0,
    "start_time": "2024-07-06T21:59:38.669Z"
   },
   {
    "duration": 0,
    "start_time": "2024-07-06T21:59:38.723Z"
   },
   {
    "duration": 0,
    "start_time": "2024-07-06T21:59:38.726Z"
   },
   {
    "duration": 0,
    "start_time": "2024-07-06T21:59:38.731Z"
   },
   {
    "duration": 0,
    "start_time": "2024-07-06T21:59:38.734Z"
   },
   {
    "duration": 49,
    "start_time": "2024-07-06T22:01:39.388Z"
   },
   {
    "duration": 9250,
    "start_time": "2024-07-06T22:01:44.758Z"
   },
   {
    "duration": 3313,
    "start_time": "2024-07-06T22:01:54.011Z"
   },
   {
    "duration": 1178,
    "start_time": "2024-07-06T22:01:57.331Z"
   },
   {
    "duration": 36,
    "start_time": "2024-07-06T22:01:58.523Z"
   },
   {
    "duration": 3,
    "start_time": "2024-07-06T22:02:57.478Z"
   },
   {
    "duration": 56542,
    "start_time": "2024-07-06T22:02:57.483Z"
   },
   {
    "duration": 2273,
    "start_time": "2024-07-06T22:03:54.029Z"
   },
   {
    "duration": 252,
    "start_time": "2024-07-06T22:04:21.049Z"
   },
   {
    "duration": 5012,
    "start_time": "2024-07-06T22:13:04.813Z"
   },
   {
    "duration": 17,
    "start_time": "2024-07-06T22:13:09.831Z"
   },
   {
    "duration": 6,
    "start_time": "2024-07-06T22:13:09.851Z"
   },
   {
    "duration": 1104,
    "start_time": "2024-07-06T22:13:09.862Z"
   },
   {
    "duration": 26,
    "start_time": "2024-07-06T22:13:10.969Z"
   },
   {
    "duration": 70,
    "start_time": "2024-07-06T22:13:10.999Z"
   },
   {
    "duration": 270,
    "start_time": "2024-07-06T22:13:11.072Z"
   },
   {
    "duration": 5475,
    "start_time": "2024-07-06T22:13:11.345Z"
   },
   {
    "duration": 1080,
    "start_time": "2024-07-06T22:13:16.823Z"
   },
   {
    "duration": 17,
    "start_time": "2024-07-06T22:13:17.911Z"
   },
   {
    "duration": 560,
    "start_time": "2024-07-06T22:13:17.932Z"
   },
   {
    "duration": 7262,
    "start_time": "2024-07-06T22:13:18.496Z"
   },
   {
    "duration": 100,
    "start_time": "2024-07-06T22:13:25.762Z"
   },
   {
    "duration": 13,
    "start_time": "2024-07-06T22:13:25.865Z"
   },
   {
    "duration": 8432,
    "start_time": "2024-07-06T22:13:25.883Z"
   },
   {
    "duration": 11,
    "start_time": "2024-07-06T22:13:34.318Z"
   },
   {
    "duration": 63,
    "start_time": "2024-07-06T22:13:34.333Z"
   },
   {
    "duration": 27,
    "start_time": "2024-07-06T22:13:34.400Z"
   },
   {
    "duration": 9,
    "start_time": "2024-07-06T22:13:34.431Z"
   },
   {
    "duration": 6,
    "start_time": "2024-07-06T22:13:34.443Z"
   },
   {
    "duration": 9,
    "start_time": "2024-07-06T22:13:34.453Z"
   },
   {
    "duration": 1091,
    "start_time": "2024-07-06T22:13:34.465Z"
   },
   {
    "duration": 315,
    "start_time": "2024-07-06T22:13:35.559Z"
   },
   {
    "duration": 13449,
    "start_time": "2024-07-06T22:13:35.876Z"
   },
   {
    "duration": 1255,
    "start_time": "2024-07-06T22:13:49.331Z"
   },
   {
    "duration": 749,
    "start_time": "2024-07-06T22:13:50.589Z"
   },
   {
    "duration": 5,
    "start_time": "2024-07-06T22:13:51.340Z"
   },
   {
    "duration": 1218309,
    "start_time": "2024-07-06T22:13:51.356Z"
   },
   {
    "duration": 11,
    "start_time": "2024-07-06T22:34:09.668Z"
   },
   {
    "duration": 8,
    "start_time": "2024-07-06T22:34:09.682Z"
   },
   {
    "duration": 24,
    "start_time": "2024-07-06T22:34:09.702Z"
   },
   {
    "duration": 60,
    "start_time": "2024-07-06T22:34:09.730Z"
   },
   {
    "duration": 9554,
    "start_time": "2024-07-06T22:34:09.793Z"
   },
   {
    "duration": 3575,
    "start_time": "2024-07-06T22:34:19.350Z"
   },
   {
    "duration": 1418,
    "start_time": "2024-07-06T22:34:22.928Z"
   },
   {
    "duration": 52,
    "start_time": "2024-07-06T22:34:24.355Z"
   },
   {
    "duration": 62567,
    "start_time": "2024-07-06T22:34:24.413Z"
   },
   {
    "duration": 2949,
    "start_time": "2024-07-06T22:35:26.984Z"
   },
   {
    "duration": 260,
    "start_time": "2024-07-06T22:35:29.937Z"
   },
   {
    "duration": 9,
    "start_time": "2024-07-06T22:35:30.200Z"
   },
   {
    "duration": 0,
    "start_time": "2024-07-06T22:35:30.213Z"
   },
   {
    "duration": 0,
    "start_time": "2024-07-06T22:35:30.214Z"
   },
   {
    "duration": 0,
    "start_time": "2024-07-06T22:35:30.217Z"
   },
   {
    "duration": 0,
    "start_time": "2024-07-06T22:35:30.226Z"
   },
   {
    "duration": 0,
    "start_time": "2024-07-06T22:35:30.229Z"
   },
   {
    "duration": 0,
    "start_time": "2024-07-06T22:35:30.231Z"
   },
   {
    "duration": 0,
    "start_time": "2024-07-06T22:35:30.233Z"
   },
   {
    "duration": 0,
    "start_time": "2024-07-06T22:35:30.235Z"
   },
   {
    "duration": 0,
    "start_time": "2024-07-06T22:35:30.237Z"
   },
   {
    "duration": 0,
    "start_time": "2024-07-06T22:35:30.239Z"
   },
   {
    "duration": 0,
    "start_time": "2024-07-06T22:35:30.241Z"
   },
   {
    "duration": 3,
    "start_time": "2024-07-06T23:04:31.403Z"
   },
   {
    "duration": 2497,
    "start_time": "2024-07-06T23:04:38.164Z"
   },
   {
    "duration": 11,
    "start_time": "2024-07-06T23:04:47.586Z"
   },
   {
    "duration": 0,
    "start_time": "2024-07-06T23:07:39.602Z"
   },
   {
    "duration": 0,
    "start_time": "2024-07-06T23:07:39.604Z"
   },
   {
    "duration": 330,
    "start_time": "2024-07-06T23:12:57.609Z"
   },
   {
    "duration": 6,
    "start_time": "2024-07-06T23:13:39.004Z"
   },
   {
    "duration": 362,
    "start_time": "2024-07-08T19:08:57.434Z"
   },
   {
    "duration": 8632,
    "start_time": "2024-07-08T19:09:30.158Z"
   },
   {
    "duration": 13,
    "start_time": "2024-07-08T19:09:38.795Z"
   },
   {
    "duration": 4,
    "start_time": "2024-07-08T19:09:38.812Z"
   },
   {
    "duration": 5,
    "start_time": "2024-07-08T19:18:21.979Z"
   },
   {
    "duration": 10,
    "start_time": "2024-07-08T19:18:22.206Z"
   },
   {
    "duration": 8,
    "start_time": "2024-07-08T19:18:22.482Z"
   },
   {
    "duration": 1211,
    "start_time": "2024-07-08T19:18:34.466Z"
   },
   {
    "duration": 33,
    "start_time": "2024-07-08T19:18:35.681Z"
   },
   {
    "duration": 81,
    "start_time": "2024-07-08T19:18:35.718Z"
   },
   {
    "duration": 257,
    "start_time": "2024-07-08T19:18:35.803Z"
   },
   {
    "duration": 5906,
    "start_time": "2024-07-08T19:18:37.120Z"
   },
   {
    "duration": 1099,
    "start_time": "2024-07-08T19:18:43.030Z"
   },
   {
    "duration": 7,
    "start_time": "2024-07-08T19:18:44.135Z"
   },
   {
    "duration": 579,
    "start_time": "2024-07-08T19:18:44.147Z"
   },
   {
    "duration": 6881,
    "start_time": "2024-07-08T19:18:44.729Z"
   },
   {
    "duration": 92,
    "start_time": "2024-07-08T19:18:51.614Z"
   },
   {
    "duration": 4,
    "start_time": "2024-07-08T19:18:51.709Z"
   },
   {
    "duration": 8182,
    "start_time": "2024-07-08T19:18:51.717Z"
   },
   {
    "duration": 6,
    "start_time": "2024-07-08T19:18:59.904Z"
   },
   {
    "duration": 58,
    "start_time": "2024-07-08T19:19:00.600Z"
   },
   {
    "duration": 7,
    "start_time": "2024-07-08T19:19:01.027Z"
   },
   {
    "duration": 6,
    "start_time": "2024-07-08T19:19:01.446Z"
   },
   {
    "duration": 6,
    "start_time": "2024-07-08T19:19:06.332Z"
   },
   {
    "duration": 9,
    "start_time": "2024-07-08T19:19:08.133Z"
   },
   {
    "duration": 1034,
    "start_time": "2024-07-08T19:19:08.587Z"
   },
   {
    "duration": 518,
    "start_time": "2024-07-08T19:19:12.389Z"
   },
   {
    "duration": 15174,
    "start_time": "2024-07-08T19:19:13.024Z"
   },
   {
    "duration": 1191,
    "start_time": "2024-07-08T19:19:28.203Z"
   },
   {
    "duration": 729,
    "start_time": "2024-07-08T19:19:29.397Z"
   },
   {
    "duration": 7,
    "start_time": "2024-07-08T19:19:30.130Z"
   },
   {
    "duration": 1260637,
    "start_time": "2024-07-08T19:19:30.141Z"
   },
   {
    "duration": 12,
    "start_time": "2024-07-08T19:40:30.781Z"
   },
   {
    "duration": 7,
    "start_time": "2024-07-08T19:40:30.798Z"
   },
   {
    "duration": 8,
    "start_time": "2024-07-08T19:40:30.809Z"
   },
   {
    "duration": 96,
    "start_time": "2024-07-08T19:40:30.821Z"
   },
   {
    "duration": 9647,
    "start_time": "2024-07-08T19:40:30.922Z"
   },
   {
    "duration": 7839,
    "start_time": "2024-07-08T19:40:40.571Z"
   },
   {
    "duration": 1252,
    "start_time": "2024-07-08T19:40:48.414Z"
   },
   {
    "duration": 80,
    "start_time": "2024-07-08T19:44:03.101Z"
   },
   {
    "duration": 67183,
    "start_time": "2024-07-08T19:44:03.338Z"
   },
   {
    "duration": 2504,
    "start_time": "2024-07-08T19:45:10.524Z"
   },
   {
    "duration": 17,
    "start_time": "2024-07-08T19:47:11.631Z"
   },
   {
    "duration": 11,
    "start_time": "2024-07-08T19:47:12.482Z"
   },
   {
    "duration": 10,
    "start_time": "2024-07-08T19:47:14.842Z"
   },
   {
    "duration": 46,
    "start_time": "2024-07-08T19:47:16.307Z"
   },
   {
    "duration": 46,
    "start_time": "2024-07-08T19:47:17.862Z"
   },
   {
    "duration": 568,
    "start_time": "2024-07-08T19:47:18.993Z"
   },
   {
    "duration": 8676,
    "start_time": "2024-07-09T04:50:54.014Z"
   },
   {
    "duration": 12,
    "start_time": "2024-07-09T04:51:02.693Z"
   },
   {
    "duration": 26,
    "start_time": "2024-07-09T04:51:02.707Z"
   },
   {
    "duration": 1030,
    "start_time": "2024-07-09T04:51:53.147Z"
   },
   {
    "duration": 24,
    "start_time": "2024-07-09T04:51:54.181Z"
   },
   {
    "duration": 40,
    "start_time": "2024-07-09T04:51:54.309Z"
   },
   {
    "duration": 229,
    "start_time": "2024-07-09T04:51:55.070Z"
   },
   {
    "duration": 5075,
    "start_time": "2024-07-09T04:52:02.808Z"
   },
   {
    "duration": 1163,
    "start_time": "2024-07-09T04:52:07.887Z"
   },
   {
    "duration": 8,
    "start_time": "2024-07-09T04:52:09.053Z"
   },
   {
    "duration": 547,
    "start_time": "2024-07-09T04:52:09.065Z"
   },
   {
    "duration": 6509,
    "start_time": "2024-07-09T04:52:09.616Z"
   },
   {
    "duration": 276,
    "start_time": "2024-07-09T04:52:27.263Z"
   },
   {
    "duration": 5,
    "start_time": "2024-07-09T04:52:29.121Z"
   },
   {
    "duration": 8223,
    "start_time": "2024-07-09T04:52:29.519Z"
   },
   {
    "duration": 6,
    "start_time": "2024-07-09T04:52:37.745Z"
   },
   {
    "duration": 46,
    "start_time": "2024-07-09T04:52:37.754Z"
   },
   {
    "duration": 31,
    "start_time": "2024-07-09T04:52:37.804Z"
   },
   {
    "duration": 6,
    "start_time": "2024-07-09T04:52:37.839Z"
   },
   {
    "duration": 6,
    "start_time": "2024-07-09T04:52:44.529Z"
   },
   {
    "duration": 8,
    "start_time": "2024-07-09T04:52:46.807Z"
   },
   {
    "duration": 978,
    "start_time": "2024-07-09T04:52:56.712Z"
   },
   {
    "duration": 229,
    "start_time": "2024-07-09T05:09:29.296Z"
   },
   {
    "duration": 10,
    "start_time": "2024-07-09T05:13:36.309Z"
   },
   {
    "duration": 7,
    "start_time": "2024-07-09T05:16:57.725Z"
   },
   {
    "duration": 5,
    "start_time": "2024-07-09T05:17:01.594Z"
   },
   {
    "duration": 5,
    "start_time": "2024-07-09T05:17:03.570Z"
   },
   {
    "duration": 829,
    "start_time": "2024-07-09T05:17:11.565Z"
   },
   {
    "duration": 33,
    "start_time": "2024-07-09T05:17:41.377Z"
   },
   {
    "duration": 109851,
    "start_time": "2024-07-09T05:18:07.121Z"
   },
   {
    "duration": 6,
    "start_time": "2024-07-09T05:19:56.975Z"
   },
   {
    "duration": 37,
    "start_time": "2024-07-09T05:20:29.094Z"
   },
   {
    "duration": 14,
    "start_time": "2024-07-09T05:20:41.751Z"
   },
   {
    "duration": 54,
    "start_time": "2024-07-09T05:23:54.136Z"
   },
   {
    "duration": 12861,
    "start_time": "2024-07-09T05:24:57.470Z"
   },
   {
    "duration": 1209,
    "start_time": "2024-07-09T05:25:10.340Z"
   },
   {
    "duration": 15,
    "start_time": "2024-07-09T20:17:20.112Z"
   }
  ],
  "kernelspec": {
   "display_name": "Python 3 (ipykernel)",
   "language": "python",
   "name": "python3"
  },
  "language_info": {
   "codemirror_mode": {
    "name": "ipython",
    "version": 3
   },
   "file_extension": ".py",
   "mimetype": "text/x-python",
   "name": "python",
   "nbconvert_exporter": "python",
   "pygments_lexer": "ipython3",
   "version": "3.11.5"
  },
  "toc": {
   "base_numbering": 1,
   "nav_menu": {},
   "number_sections": true,
   "sideBar": true,
   "skip_h1_title": true,
   "title_cell": "Table of Contents",
   "title_sidebar": "Contents",
   "toc_cell": false,
   "toc_position": {},
   "toc_section_display": true,
   "toc_window_display": false
  },
  "vscode": {
   "interpreter": {
    "hash": "ac629f305345b17df6668bc9b17021b4f12075c260532782c34ed55a489bc20f"
   }
  }
 },
 "nbformat": 4,
 "nbformat_minor": 4
}
